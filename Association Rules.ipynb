{
 "cells": [
  {
   "cell_type": "code",
   "execution_count": 1,
   "id": "0abd0ac4",
   "metadata": {
    "ExecuteTime": {
     "end_time": "2022-12-17T10:09:20.802722Z",
     "start_time": "2022-12-17T10:09:19.639704Z"
    }
   },
   "outputs": [
    {
     "name": "stderr",
     "output_type": "stream",
     "text": [
      "C:\\Users\\kulde\\anaconda3\\lib\\site-packages\\scipy\\__init__.py:146: UserWarning: A NumPy version >=1.16.5 and <1.23.0 is required for this version of SciPy (detected version 1.23.5\n",
      "  warnings.warn(f\"A NumPy version >={np_minversion} and <{np_maxversion}\"\n"
     ]
    }
   ],
   "source": [
    "import pandas as pd\n",
    "import numpy as np\n",
    "import matplotlib.pyplot as plt\n",
    "import seaborn as sns\n",
    "from mlxtend.preprocessing import TransactionEncoder\n",
    "from mlxtend.frequent_patterns import apriori\n",
    "from mlxtend.frequent_patterns import fpgrowth\n",
    "from mlxtend.frequent_patterns import association_rules"
   ]
  },
  {
   "cell_type": "code",
   "execution_count": 2,
   "id": "26263880",
   "metadata": {
    "ExecuteTime": {
     "end_time": "2022-12-17T10:11:14.788537Z",
     "start_time": "2022-12-17T10:09:20.803715Z"
    }
   },
   "outputs": [
    {
     "name": "stdout",
     "output_type": "stream",
     "text": [
      "Requirement already satisfied: mlxtend in c:\\users\\kulde\\anaconda3\\lib\\site-packages (0.21.0)\n",
      "Requirement already satisfied: numpy>=1.16.2 in c:\\users\\kulde\\anaconda3\\lib\\site-packages (from mlxtend) (1.23.5)\n",
      "Requirement already satisfied: scipy>=1.2.1 in c:\\users\\kulde\\anaconda3\\lib\\site-packages (from mlxtend) (1.7.3)\n",
      "Requirement already satisfied: scikit-learn>=1.0.2 in c:\\users\\kulde\\anaconda3\\lib\\site-packages (from mlxtend) (1.1.3)\n",
      "Requirement already satisfied: joblib>=0.13.2 in c:\\users\\kulde\\anaconda3\\lib\\site-packages (from mlxtend) (1.1.0)\n",
      "Requirement already satisfied: setuptools in c:\\users\\kulde\\anaconda3\\lib\\site-packages (from mlxtend) (61.2.0)\n",
      "Requirement already satisfied: pandas>=0.24.2 in c:\\users\\kulde\\anaconda3\\lib\\site-packages (from mlxtend) (1.4.2)\n",
      "Requirement already satisfied: matplotlib>=3.0.0 in c:\\users\\kulde\\anaconda3\\lib\\site-packages (from mlxtend) (3.5.1)\n",
      "Requirement already satisfied: fonttools>=4.22.0 in c:\\users\\kulde\\anaconda3\\lib\\site-packages (from matplotlib>=3.0.0->mlxtend) (4.25.0)\n",
      "Requirement already satisfied: pyparsing>=2.2.1 in c:\\users\\kulde\\anaconda3\\lib\\site-packages (from matplotlib>=3.0.0->mlxtend) (3.0.4)\n",
      "Requirement already satisfied: python-dateutil>=2.7 in c:\\users\\kulde\\anaconda3\\lib\\site-packages (from matplotlib>=3.0.0->mlxtend) (2.8.2)\n",
      "Requirement already satisfied: kiwisolver>=1.0.1 in c:\\users\\kulde\\anaconda3\\lib\\site-packages (from matplotlib>=3.0.0->mlxtend) (1.3.2)\n",
      "Requirement already satisfied: cycler>=0.10 in c:\\users\\kulde\\anaconda3\\lib\\site-packages (from matplotlib>=3.0.0->mlxtend) (0.11.0)\n",
      "Requirement already satisfied: packaging>=20.0 in c:\\users\\kulde\\anaconda3\\lib\\site-packages (from matplotlib>=3.0.0->mlxtend) (21.3)\n",
      "Requirement already satisfied: pillow>=6.2.0 in c:\\users\\kulde\\anaconda3\\lib\\site-packages (from matplotlib>=3.0.0->mlxtend) (9.0.1)\n",
      "Requirement already satisfied: pytz>=2020.1 in c:\\users\\kulde\\anaconda3\\lib\\site-packages (from pandas>=0.24.2->mlxtend) (2021.3)\n",
      "Requirement already satisfied: six>=1.5 in c:\\users\\kulde\\anaconda3\\lib\\site-packages (from python-dateutil>=2.7->matplotlib>=3.0.0->mlxtend) (1.15.0)\n",
      "Requirement already satisfied: threadpoolctl>=2.0.0 in c:\\users\\kulde\\anaconda3\\lib\\site-packages (from scikit-learn>=1.0.2->mlxtend) (2.2.0)\n",
      "INFO: pip is looking at multiple versions of scikit-learn to determine which version is compatible with other requirements. This could take a while.\n",
      "INFO: pip is looking at multiple versions of pytz to determine which version is compatible with other requirements. This could take a while.\n",
      "INFO: pip is looking at multiple versions of python-dateutil to determine which version is compatible with other requirements. This could take a while.\n",
      "INFO: pip is looking at multiple versions of pyparsing to determine which version is compatible with other requirements. This could take a while.\n",
      "INFO: pip is looking at multiple versions of pillow to determine which version is compatible with other requirements. This could take a while.\n",
      "INFO: pip is looking at multiple versions of pandas to determine which version is compatible with other requirements. This could take a while.\n",
      "INFO: pip is looking at multiple versions of packaging to determine which version is compatible with other requirements. This could take a while.\n",
      "INFO: pip is looking at multiple versions of numpy to determine which version is compatible with other requirements. This could take a while.\n",
      "INFO: pip is looking at multiple versions of kiwisolver to determine which version is compatible with other requirements. This could take a while.\n",
      "INFO: pip is looking at multiple versions of fonttools to determine which version is compatible with other requirements. This could take a while.\n",
      "INFO: pip is looking at multiple versions of cycler to determine which version is compatible with other requirements. This could take a while.\n",
      "INFO: pip is looking at multiple versions of matplotlib to determine which version is compatible with other requirements. This could take a while.\n",
      "INFO: pip is looking at multiple versions of joblib to determine which version is compatible with other requirements. This could take a while.\n",
      "INFO: pip is looking at multiple versions of mlxtend to determine which version is compatible with other requirements. This could take a while.\n",
      "\n",
      "The conflict is caused by:\n",
      "    mlxtend 0.21.0 depends on numpy>=1.16.2\n",
      "    matplotlib 3.5.1 depends on numpy>=1.17\n",
      "    pandas 1.4.2 depends on numpy>=1.18.5; platform_machine != \"aarch64\" and platform_machine != \"arm64\" and python_version < \"3.10\"\n",
      "    scikit-learn 1.1.3 depends on numpy>=1.17.3\n",
      "    scipy 1.7.3 depends on numpy<1.23.0 and >=1.16.5\n",
      "\n",
      "To fix this you could try to:\n",
      "1. loosen the range of package versions you've specified\n",
      "2. remove package versions to allow pip attempt to solve the dependency conflict\n",
      "\n"
     ]
    },
    {
     "name": "stderr",
     "output_type": "stream",
     "text": [
      "WARNING: Retrying (Retry(total=4, connect=None, read=None, redirect=None, status=None)) after connection broken by 'NewConnectionError('<pip._vendor.urllib3.connection.HTTPSConnection object at 0x0000022D96D9D640>: Failed to establish a new connection: [Errno 11001] getaddrinfo failed')': /simple/numpy/\n",
      "WARNING: Retrying (Retry(total=3, connect=None, read=None, redirect=None, status=None)) after connection broken by 'NewConnectionError('<pip._vendor.urllib3.connection.HTTPSConnection object at 0x0000022D96D9DD90>: Failed to establish a new connection: [Errno 11001] getaddrinfo failed')': /simple/numpy/\n",
      "WARNING: Retrying (Retry(total=2, connect=None, read=None, redirect=None, status=None)) after connection broken by 'NewConnectionError('<pip._vendor.urllib3.connection.HTTPSConnection object at 0x0000022D96D9AC70>: Failed to establish a new connection: [Errno 11001] getaddrinfo failed')': /simple/numpy/\n",
      "WARNING: Retrying (Retry(total=1, connect=None, read=None, redirect=None, status=None)) after connection broken by 'NewConnectionError('<pip._vendor.urllib3.connection.HTTPSConnection object at 0x0000022D96D9AE50>: Failed to establish a new connection: [Errno 11001] getaddrinfo failed')': /simple/numpy/\n",
      "WARNING: Retrying (Retry(total=0, connect=None, read=None, redirect=None, status=None)) after connection broken by 'NewConnectionError('<pip._vendor.urllib3.connection.HTTPSConnection object at 0x0000022D96D9A640>: Failed to establish a new connection: [Errno 11001] getaddrinfo failed')': /simple/numpy/\n",
      "WARNING: Retrying (Retry(total=4, connect=None, read=None, redirect=None, status=None)) after connection broken by 'NewConnectionError('<pip._vendor.urllib3.connection.HTTPSConnection object at 0x0000022D96D90730>: Failed to establish a new connection: [Errno 11001] getaddrinfo failed')': /simple/scipy/\n",
      "WARNING: Retrying (Retry(total=3, connect=None, read=None, redirect=None, status=None)) after connection broken by 'NewConnectionError('<pip._vendor.urllib3.connection.HTTPSConnection object at 0x0000022D96D904C0>: Failed to establish a new connection: [Errno 11001] getaddrinfo failed')': /simple/scipy/\n",
      "WARNING: Retrying (Retry(total=2, connect=None, read=None, redirect=None, status=None)) after connection broken by 'NewConnectionError('<pip._vendor.urllib3.connection.HTTPSConnection object at 0x0000022D96D88670>: Failed to establish a new connection: [Errno 11001] getaddrinfo failed')': /simple/scipy/\n",
      "WARNING: Retrying (Retry(total=1, connect=None, read=None, redirect=None, status=None)) after connection broken by 'NewConnectionError('<pip._vendor.urllib3.connection.HTTPSConnection object at 0x0000022D96D5C9D0>: Failed to establish a new connection: [Errno 11001] getaddrinfo failed')': /simple/scipy/\n",
      "WARNING: Retrying (Retry(total=0, connect=None, read=None, redirect=None, status=None)) after connection broken by 'NewConnectionError('<pip._vendor.urllib3.connection.HTTPSConnection object at 0x0000022D96CFD6D0>: Failed to establish a new connection: [Errno 11001] getaddrinfo failed')': /simple/scipy/\n",
      "WARNING: Retrying (Retry(total=4, connect=None, read=None, redirect=None, status=None)) after connection broken by 'NewConnectionError('<pip._vendor.urllib3.connection.HTTPSConnection object at 0x0000022D96D50C40>: Failed to establish a new connection: [Errno 11001] getaddrinfo failed')': /simple/scikit-learn/\n",
      "WARNING: Retrying (Retry(total=3, connect=None, read=None, redirect=None, status=None)) after connection broken by 'NewConnectionError('<pip._vendor.urllib3.connection.HTTPSConnection object at 0x0000022D96D9A2B0>: Failed to establish a new connection: [Errno 11001] getaddrinfo failed')': /simple/scikit-learn/\n",
      "WARNING: Retrying (Retry(total=2, connect=None, read=None, redirect=None, status=None)) after connection broken by 'NewConnectionError('<pip._vendor.urllib3.connection.HTTPSConnection object at 0x0000022D96D9A640>: Failed to establish a new connection: [Errno 11001] getaddrinfo failed')': /simple/scikit-learn/\n",
      "WARNING: Retrying (Retry(total=1, connect=None, read=None, redirect=None, status=None)) after connection broken by 'NewConnectionError('<pip._vendor.urllib3.connection.HTTPSConnection object at 0x0000022D96D9A520>: Failed to establish a new connection: [Errno 11001] getaddrinfo failed')': /simple/scikit-learn/\n",
      "WARNING: Retrying (Retry(total=0, connect=None, read=None, redirect=None, status=None)) after connection broken by 'NewConnectionError('<pip._vendor.urllib3.connection.HTTPSConnection object at 0x0000022D96D9DB50>: Failed to establish a new connection: [Errno 11001] getaddrinfo failed')': /simple/scikit-learn/\n",
      "WARNING: Retrying (Retry(total=4, connect=None, read=None, redirect=None, status=None)) after connection broken by 'NewConnectionError('<pip._vendor.urllib3.connection.HTTPSConnection object at 0x0000022D96DBA8B0>: Failed to establish a new connection: [Errno 11001] getaddrinfo failed')': /simple/pytz/\n",
      "WARNING: Retrying (Retry(total=3, connect=None, read=None, redirect=None, status=None)) after connection broken by 'NewConnectionError('<pip._vendor.urllib3.connection.HTTPSConnection object at 0x0000022D96DBAAC0>: Failed to establish a new connection: [Errno 11001] getaddrinfo failed')': /simple/pytz/\n",
      "WARNING: Retrying (Retry(total=2, connect=None, read=None, redirect=None, status=None)) after connection broken by 'NewConnectionError('<pip._vendor.urllib3.connection.HTTPSConnection object at 0x0000022D96DBAC70>: Failed to establish a new connection: [Errno 11001] getaddrinfo failed')': /simple/pytz/\n",
      "WARNING: Retrying (Retry(total=1, connect=None, read=None, redirect=None, status=None)) after connection broken by 'NewConnectionError('<pip._vendor.urllib3.connection.HTTPSConnection object at 0x0000022D96DBAE20>: Failed to establish a new connection: [Errno 11001] getaddrinfo failed')': /simple/pytz/\n",
      "WARNING: Retrying (Retry(total=0, connect=None, read=None, redirect=None, status=None)) after connection broken by 'NewConnectionError('<pip._vendor.urllib3.connection.HTTPSConnection object at 0x0000022D96D66AF0>: Failed to establish a new connection: [Errno 11001] getaddrinfo failed')': /simple/pytz/\n",
      "WARNING: Retrying (Retry(total=4, connect=None, read=None, redirect=None, status=None)) after connection broken by 'NewConnectionError('<pip._vendor.urllib3.connection.HTTPSConnection object at 0x0000022D96D90100>: Failed to establish a new connection: [Errno 11001] getaddrinfo failed')': /simple/python-dateutil/\n",
      "WARNING: Retrying (Retry(total=3, connect=None, read=None, redirect=None, status=None)) after connection broken by 'NewConnectionError('<pip._vendor.urllib3.connection.HTTPSConnection object at 0x0000022D96D5C6D0>: Failed to establish a new connection: [Errno 11001] getaddrinfo failed')': /simple/python-dateutil/\n",
      "WARNING: Retrying (Retry(total=2, connect=None, read=None, redirect=None, status=None)) after connection broken by 'NewConnectionError('<pip._vendor.urllib3.connection.HTTPSConnection object at 0x0000022D96DBA520>: Failed to establish a new connection: [Errno 11001] getaddrinfo failed')': /simple/python-dateutil/\n",
      "WARNING: Retrying (Retry(total=1, connect=None, read=None, redirect=None, status=None)) after connection broken by 'NewConnectionError('<pip._vendor.urllib3.connection.HTTPSConnection object at 0x0000022D96DBA1C0>: Failed to establish a new connection: [Errno 11001] getaddrinfo failed')': /simple/python-dateutil/\n",
      "WARNING: Retrying (Retry(total=0, connect=None, read=None, redirect=None, status=None)) after connection broken by 'NewConnectionError('<pip._vendor.urllib3.connection.HTTPSConnection object at 0x0000022D96DBA070>: Failed to establish a new connection: [Errno 11001] getaddrinfo failed')': /simple/python-dateutil/\n",
      "WARNING: Retrying (Retry(total=4, connect=None, read=None, redirect=None, status=None)) after connection broken by 'NewConnectionError('<pip._vendor.urllib3.connection.HTTPSConnection object at 0x0000022D96DC1D30>: Failed to establish a new connection: [Errno 11001] getaddrinfo failed')': /simple/pyparsing/\n",
      "WARNING: Retrying (Retry(total=3, connect=None, read=None, redirect=None, status=None)) after connection broken by 'NewConnectionError('<pip._vendor.urllib3.connection.HTTPSConnection object at 0x0000022D96DC1F40>: Failed to establish a new connection: [Errno 11001] getaddrinfo failed')': /simple/pyparsing/\n",
      "WARNING: Retrying (Retry(total=2, connect=None, read=None, redirect=None, status=None)) after connection broken by 'NewConnectionError('<pip._vendor.urllib3.connection.HTTPSConnection object at 0x0000022D96D8D670>: Failed to establish a new connection: [Errno 11001] getaddrinfo failed')': /simple/pyparsing/\n",
      "WARNING: Retrying (Retry(total=1, connect=None, read=None, redirect=None, status=None)) after connection broken by 'NewConnectionError('<pip._vendor.urllib3.connection.HTTPSConnection object at 0x0000022D96DC1730>: Failed to establish a new connection: [Errno 11001] getaddrinfo failed')': /simple/pyparsing/\n",
      "WARNING: Retrying (Retry(total=0, connect=None, read=None, redirect=None, status=None)) after connection broken by 'NewConnectionError('<pip._vendor.urllib3.connection.HTTPSConnection object at 0x0000022D96DC1550>: Failed to establish a new connection: [Errno 11001] getaddrinfo failed')': /simple/pyparsing/\n",
      "WARNING: Retrying (Retry(total=4, connect=None, read=None, redirect=None, status=None)) after connection broken by 'NewConnectionError('<pip._vendor.urllib3.connection.HTTPSConnection object at 0x0000022D96D95A60>: Failed to establish a new connection: [Errno 11001] getaddrinfo failed')': /simple/pillow/\n",
      "WARNING: Retrying (Retry(total=3, connect=None, read=None, redirect=None, status=None)) after connection broken by 'NewConnectionError('<pip._vendor.urllib3.connection.HTTPSConnection object at 0x0000022D96D64700>: Failed to establish a new connection: [Errno 11001] getaddrinfo failed')': /simple/pillow/\n",
      "WARNING: Retrying (Retry(total=2, connect=None, read=None, redirect=None, status=None)) after connection broken by 'NewConnectionError('<pip._vendor.urllib3.connection.HTTPSConnection object at 0x0000022D96D9A0A0>: Failed to establish a new connection: [Errno 11001] getaddrinfo failed')': /simple/pillow/\n",
      "WARNING: Retrying (Retry(total=1, connect=None, read=None, redirect=None, status=None)) after connection broken by 'NewConnectionError('<pip._vendor.urllib3.connection.HTTPSConnection object at 0x0000022D96D9A220>: Failed to establish a new connection: [Errno 11001] getaddrinfo failed')': /simple/pillow/\n",
      "WARNING: Retrying (Retry(total=0, connect=None, read=None, redirect=None, status=None)) after connection broken by 'NewConnectionError('<pip._vendor.urllib3.connection.HTTPSConnection object at 0x0000022D96D9AAF0>: Failed to establish a new connection: [Errno 11001] getaddrinfo failed')': /simple/pillow/\n",
      "WARNING: Retrying (Retry(total=4, connect=None, read=None, redirect=None, status=None)) after connection broken by 'NewConnectionError('<pip._vendor.urllib3.connection.HTTPSConnection object at 0x0000022D96DC98B0>: Failed to establish a new connection: [Errno 11001] getaddrinfo failed')': /simple/pandas/\n",
      "WARNING: Retrying (Retry(total=3, connect=None, read=None, redirect=None, status=None)) after connection broken by 'NewConnectionError('<pip._vendor.urllib3.connection.HTTPSConnection object at 0x0000022D96DC9AC0>: Failed to establish a new connection: [Errno 11001] getaddrinfo failed')': /simple/pandas/\n",
      "WARNING: Retrying (Retry(total=2, connect=None, read=None, redirect=None, status=None)) after connection broken by 'NewConnectionError('<pip._vendor.urllib3.connection.HTTPSConnection object at 0x0000022D96D664F0>: Failed to establish a new connection: [Errno 11001] getaddrinfo failed')': /simple/pandas/\n",
      "WARNING: Retrying (Retry(total=1, connect=None, read=None, redirect=None, status=None)) after connection broken by 'NewConnectionError('<pip._vendor.urllib3.connection.HTTPSConnection object at 0x0000022D96D66910>: Failed to establish a new connection: [Errno 11001] getaddrinfo failed')': /simple/pandas/\n",
      "WARNING: Retrying (Retry(total=0, connect=None, read=None, redirect=None, status=None)) after connection broken by 'NewConnectionError('<pip._vendor.urllib3.connection.HTTPSConnection object at 0x0000022D96D9D070>: Failed to establish a new connection: [Errno 11001] getaddrinfo failed')': /simple/pandas/\n",
      "WARNING: Retrying (Retry(total=4, connect=None, read=None, redirect=None, status=None)) after connection broken by 'NewConnectionError('<pip._vendor.urllib3.connection.HTTPSConnection object at 0x0000022D96DBA490>: Failed to establish a new connection: [Errno 11001] getaddrinfo failed')': /simple/packaging/\n",
      "WARNING: Retrying (Retry(total=3, connect=None, read=None, redirect=None, status=None)) after connection broken by 'NewConnectionError('<pip._vendor.urllib3.connection.HTTPSConnection object at 0x0000022D96DBAF40>: Failed to establish a new connection: [Errno 11001] getaddrinfo failed')': /simple/packaging/\n",
      "WARNING: Retrying (Retry(total=2, connect=None, read=None, redirect=None, status=None)) after connection broken by 'NewConnectionError('<pip._vendor.urllib3.connection.HTTPSConnection object at 0x0000022D96DC17F0>: Failed to establish a new connection: [Errno 11001] getaddrinfo failed')': /simple/packaging/\n",
      "WARNING: Retrying (Retry(total=1, connect=None, read=None, redirect=None, status=None)) after connection broken by 'NewConnectionError('<pip._vendor.urllib3.connection.HTTPSConnection object at 0x0000022D96DC1130>: Failed to establish a new connection: [Errno 11001] getaddrinfo failed')': /simple/packaging/\n",
      "WARNING: Retrying (Retry(total=0, connect=None, read=None, redirect=None, status=None)) after connection broken by 'NewConnectionError('<pip._vendor.urllib3.connection.HTTPSConnection object at 0x0000022D96DC1340>: Failed to establish a new connection: [Errno 11001] getaddrinfo failed')': /simple/packaging/\n",
      "WARNING: Retrying (Retry(total=4, connect=None, read=None, redirect=None, status=None)) after connection broken by 'NewConnectionError('<pip._vendor.urllib3.connection.HTTPSConnection object at 0x0000022D96DC1160>: Failed to establish a new connection: [Errno 11001] getaddrinfo failed')': /simple/kiwisolver/\n",
      "WARNING: Retrying (Retry(total=3, connect=None, read=None, redirect=None, status=None)) after connection broken by 'NewConnectionError('<pip._vendor.urllib3.connection.HTTPSConnection object at 0x0000022D96DC17C0>: Failed to establish a new connection: [Errno 11001] getaddrinfo failed')': /simple/kiwisolver/\n",
      "WARNING: Retrying (Retry(total=2, connect=None, read=None, redirect=None, status=None)) after connection broken by 'NewConnectionError('<pip._vendor.urllib3.connection.HTTPSConnection object at 0x0000022D96DC1940>: Failed to establish a new connection: [Errno 11001] getaddrinfo failed')': /simple/kiwisolver/\n",
      "WARNING: Retrying (Retry(total=1, connect=None, read=None, redirect=None, status=None)) after connection broken by 'NewConnectionError('<pip._vendor.urllib3.connection.HTTPSConnection object at 0x0000022D96DC1790>: Failed to establish a new connection: [Errno 11001] getaddrinfo failed')': /simple/kiwisolver/\n",
      "WARNING: Retrying (Retry(total=0, connect=None, read=None, redirect=None, status=None)) after connection broken by 'NewConnectionError('<pip._vendor.urllib3.connection.HTTPSConnection object at 0x0000022D96DBAF70>: Failed to establish a new connection: [Errno 11001] getaddrinfo failed')': /simple/kiwisolver/\n",
      "WARNING: Retrying (Retry(total=4, connect=None, read=None, redirect=None, status=None)) after connection broken by 'NewConnectionError('<pip._vendor.urllib3.connection.HTTPSConnection object at 0x0000022D96D9AD90>: Failed to establish a new connection: [Errno 11001] getaddrinfo failed')': /simple/fonttools/\n",
      "WARNING: Retrying (Retry(total=3, connect=None, read=None, redirect=None, status=None)) after connection broken by 'NewConnectionError('<pip._vendor.urllib3.connection.HTTPSConnection object at 0x0000022D96D9DB50>: Failed to establish a new connection: [Errno 11001] getaddrinfo failed')': /simple/fonttools/\n",
      "WARNING: Retrying (Retry(total=2, connect=None, read=None, redirect=None, status=None)) after connection broken by 'NewConnectionError('<pip._vendor.urllib3.connection.HTTPSConnection object at 0x0000022D96D9D640>: Failed to establish a new connection: [Errno 11001] getaddrinfo failed')': /simple/fonttools/\n",
      "WARNING: Retrying (Retry(total=1, connect=None, read=None, redirect=None, status=None)) after connection broken by 'NewConnectionError('<pip._vendor.urllib3.connection.HTTPSConnection object at 0x0000022D96D660A0>: Failed to establish a new connection: [Errno 11001] getaddrinfo failed')': /simple/fonttools/\n",
      "WARNING: Retrying (Retry(total=0, connect=None, read=None, redirect=None, status=None)) after connection broken by 'NewConnectionError('<pip._vendor.urllib3.connection.HTTPSConnection object at 0x0000022D96D419D0>: Failed to establish a new connection: [Errno 11001] getaddrinfo failed')': /simple/fonttools/\n",
      "WARNING: Retrying (Retry(total=4, connect=None, read=None, redirect=None, status=None)) after connection broken by 'NewConnectionError('<pip._vendor.urllib3.connection.HTTPSConnection object at 0x0000022D96D9DB50>: Failed to establish a new connection: [Errno 11001] getaddrinfo failed')': /simple/cycler/\n",
      "WARNING: Retrying (Retry(total=3, connect=None, read=None, redirect=None, status=None)) after connection broken by 'NewConnectionError('<pip._vendor.urllib3.connection.HTTPSConnection object at 0x0000022D96D9ACD0>: Failed to establish a new connection: [Errno 11001] getaddrinfo failed')': /simple/cycler/\n",
      "WARNING: Retrying (Retry(total=2, connect=None, read=None, redirect=None, status=None)) after connection broken by 'NewConnectionError('<pip._vendor.urllib3.connection.HTTPSConnection object at 0x0000022D96D9A8B0>: Failed to establish a new connection: [Errno 11001] getaddrinfo failed')': /simple/cycler/\n",
      "WARNING: Retrying (Retry(total=1, connect=None, read=None, redirect=None, status=None)) after connection broken by 'NewConnectionError('<pip._vendor.urllib3.connection.HTTPSConnection object at 0x0000022D96D64E20>: Failed to establish a new connection: [Errno 11001] getaddrinfo failed')': /simple/cycler/\n",
      "WARNING: Retrying (Retry(total=0, connect=None, read=None, redirect=None, status=None)) after connection broken by 'NewConnectionError('<pip._vendor.urllib3.connection.HTTPSConnection object at 0x0000022D96D88B20>: Failed to establish a new connection: [Errno 11001] getaddrinfo failed')': /simple/cycler/\n",
      "WARNING: Retrying (Retry(total=4, connect=None, read=None, redirect=None, status=None)) after connection broken by 'NewConnectionError('<pip._vendor.urllib3.connection.HTTPSConnection object at 0x0000022D96DC12B0>: Failed to establish a new connection: [Errno 11001] getaddrinfo failed')': /simple/matplotlib/\n",
      "WARNING: Retrying (Retry(total=3, connect=None, read=None, redirect=None, status=None)) after connection broken by 'NewConnectionError('<pip._vendor.urllib3.connection.HTTPSConnection object at 0x0000022D96DC15B0>: Failed to establish a new connection: [Errno 11001] getaddrinfo failed')': /simple/matplotlib/\n",
      "WARNING: Retrying (Retry(total=2, connect=None, read=None, redirect=None, status=None)) after connection broken by 'NewConnectionError('<pip._vendor.urllib3.connection.HTTPSConnection object at 0x0000022D96DC94C0>: Failed to establish a new connection: [Errno 11001] getaddrinfo failed')': /simple/matplotlib/\n",
      "WARNING: Retrying (Retry(total=1, connect=None, read=None, redirect=None, status=None)) after connection broken by 'NewConnectionError('<pip._vendor.urllib3.connection.HTTPSConnection object at 0x0000022D96DD1400>: Failed to establish a new connection: [Errno 11001] getaddrinfo failed')': /simple/matplotlib/\n",
      "WARNING: Retrying (Retry(total=0, connect=None, read=None, redirect=None, status=None)) after connection broken by 'NewConnectionError('<pip._vendor.urllib3.connection.HTTPSConnection object at 0x0000022D96DD1580>: Failed to establish a new connection: [Errno 11001] getaddrinfo failed')': /simple/matplotlib/\n",
      "WARNING: Retrying (Retry(total=4, connect=None, read=None, redirect=None, status=None)) after connection broken by 'NewConnectionError('<pip._vendor.urllib3.connection.HTTPSConnection object at 0x0000022D96DD1D00>: Failed to establish a new connection: [Errno 11001] getaddrinfo failed')': /simple/joblib/\n",
      "WARNING: Retrying (Retry(total=3, connect=None, read=None, redirect=None, status=None)) after connection broken by 'NewConnectionError('<pip._vendor.urllib3.connection.HTTPSConnection object at 0x0000022D96DD1160>: Failed to establish a new connection: [Errno 11001] getaddrinfo failed')': /simple/joblib/\n",
      "WARNING: Retrying (Retry(total=2, connect=None, read=None, redirect=None, status=None)) after connection broken by 'NewConnectionError('<pip._vendor.urllib3.connection.HTTPSConnection object at 0x0000022D96DD18E0>: Failed to establish a new connection: [Errno 11001] getaddrinfo failed')': /simple/joblib/\n",
      "WARNING: Retrying (Retry(total=1, connect=None, read=None, redirect=None, status=None)) after connection broken by 'NewConnectionError('<pip._vendor.urllib3.connection.HTTPSConnection object at 0x0000022D96DD1D30>: Failed to establish a new connection: [Errno 11001] getaddrinfo failed')': /simple/joblib/\n",
      "WARNING: Retrying (Retry(total=0, connect=None, read=None, redirect=None, status=None)) after connection broken by 'NewConnectionError('<pip._vendor.urllib3.connection.HTTPSConnection object at 0x0000022D96DD1550>: Failed to establish a new connection: [Errno 11001] getaddrinfo failed')': /simple/joblib/\n",
      "WARNING: Retrying (Retry(total=4, connect=None, read=None, redirect=None, status=None)) after connection broken by 'NewConnectionError('<pip._vendor.urllib3.connection.HTTPSConnection object at 0x0000022D96DBA100>: Failed to establish a new connection: [Errno 11001] getaddrinfo failed')': /simple/mlxtend/\n",
      "WARNING: Retrying (Retry(total=3, connect=None, read=None, redirect=None, status=None)) after connection broken by 'NewConnectionError('<pip._vendor.urllib3.connection.HTTPSConnection object at 0x0000022D96DBA370>: Failed to establish a new connection: [Errno 11001] getaddrinfo failed')': /simple/mlxtend/\n",
      "WARNING: Retrying (Retry(total=2, connect=None, read=None, redirect=None, status=None)) after connection broken by 'NewConnectionError('<pip._vendor.urllib3.connection.HTTPSConnection object at 0x0000022D96D95310>: Failed to establish a new connection: [Errno 11001] getaddrinfo failed')': /simple/mlxtend/\n",
      "WARNING: Retrying (Retry(total=1, connect=None, read=None, redirect=None, status=None)) after connection broken by 'NewConnectionError('<pip._vendor.urllib3.connection.HTTPSConnection object at 0x0000022D96D88CD0>: Failed to establish a new connection: [Errno 11001] getaddrinfo failed')': /simple/mlxtend/\n",
      "WARNING: Retrying (Retry(total=0, connect=None, read=None, redirect=None, status=None)) after connection broken by 'NewConnectionError('<pip._vendor.urllib3.connection.HTTPSConnection object at 0x0000022D96D64E80>: Failed to establish a new connection: [Errno 11001] getaddrinfo failed')': /simple/mlxtend/\n",
      "ERROR: Cannot install matplotlib==3.5.1, mlxtend==0.21.0, pandas==1.4.2, scikit-learn==1.1.3 and scipy==1.7.3 because these package versions have conflicting dependencies.\n",
      "ERROR: ResolutionImpossible: for help visit https://pip.pypa.io/en/latest/user_guide/#fixing-conflicting-dependencies\n"
     ]
    }
   ],
   "source": [
    "!pip install mlxtend"
   ]
  },
  {
   "cell_type": "code",
   "execution_count": 3,
   "id": "9fd3b7f2",
   "metadata": {
    "ExecuteTime": {
     "end_time": "2022-12-17T10:11:14.820042Z",
     "start_time": "2022-12-17T10:11:14.788537Z"
    }
   },
   "outputs": [
    {
     "data": {
      "text/html": [
       "<div>\n",
       "<style scoped>\n",
       "    .dataframe tbody tr th:only-of-type {\n",
       "        vertical-align: middle;\n",
       "    }\n",
       "\n",
       "    .dataframe tbody tr th {\n",
       "        vertical-align: top;\n",
       "    }\n",
       "\n",
       "    .dataframe thead th {\n",
       "        text-align: right;\n",
       "    }\n",
       "</style>\n",
       "<table border=\"1\" class=\"dataframe\">\n",
       "  <thead>\n",
       "    <tr style=\"text-align: right;\">\n",
       "      <th></th>\n",
       "      <th>ChildBks</th>\n",
       "      <th>YouthBks</th>\n",
       "      <th>CookBks</th>\n",
       "      <th>DoItYBks</th>\n",
       "      <th>RefBks</th>\n",
       "      <th>ArtBks</th>\n",
       "      <th>GeogBks</th>\n",
       "      <th>ItalCook</th>\n",
       "      <th>ItalAtlas</th>\n",
       "      <th>ItalArt</th>\n",
       "      <th>Florence</th>\n",
       "    </tr>\n",
       "  </thead>\n",
       "  <tbody>\n",
       "    <tr>\n",
       "      <th>0</th>\n",
       "      <td>0</td>\n",
       "      <td>1</td>\n",
       "      <td>0</td>\n",
       "      <td>1</td>\n",
       "      <td>0</td>\n",
       "      <td>0</td>\n",
       "      <td>1</td>\n",
       "      <td>0</td>\n",
       "      <td>0</td>\n",
       "      <td>0</td>\n",
       "      <td>0</td>\n",
       "    </tr>\n",
       "    <tr>\n",
       "      <th>1</th>\n",
       "      <td>1</td>\n",
       "      <td>0</td>\n",
       "      <td>0</td>\n",
       "      <td>0</td>\n",
       "      <td>0</td>\n",
       "      <td>0</td>\n",
       "      <td>0</td>\n",
       "      <td>0</td>\n",
       "      <td>0</td>\n",
       "      <td>0</td>\n",
       "      <td>0</td>\n",
       "    </tr>\n",
       "    <tr>\n",
       "      <th>2</th>\n",
       "      <td>0</td>\n",
       "      <td>0</td>\n",
       "      <td>0</td>\n",
       "      <td>0</td>\n",
       "      <td>0</td>\n",
       "      <td>0</td>\n",
       "      <td>0</td>\n",
       "      <td>0</td>\n",
       "      <td>0</td>\n",
       "      <td>0</td>\n",
       "      <td>0</td>\n",
       "    </tr>\n",
       "    <tr>\n",
       "      <th>3</th>\n",
       "      <td>1</td>\n",
       "      <td>1</td>\n",
       "      <td>1</td>\n",
       "      <td>0</td>\n",
       "      <td>1</td>\n",
       "      <td>0</td>\n",
       "      <td>1</td>\n",
       "      <td>0</td>\n",
       "      <td>0</td>\n",
       "      <td>0</td>\n",
       "      <td>0</td>\n",
       "    </tr>\n",
       "    <tr>\n",
       "      <th>4</th>\n",
       "      <td>0</td>\n",
       "      <td>0</td>\n",
       "      <td>1</td>\n",
       "      <td>0</td>\n",
       "      <td>0</td>\n",
       "      <td>0</td>\n",
       "      <td>1</td>\n",
       "      <td>0</td>\n",
       "      <td>0</td>\n",
       "      <td>0</td>\n",
       "      <td>0</td>\n",
       "    </tr>\n",
       "  </tbody>\n",
       "</table>\n",
       "</div>"
      ],
      "text/plain": [
       "   ChildBks  YouthBks  CookBks  DoItYBks  RefBks  ArtBks  GeogBks  ItalCook  \\\n",
       "0         0         1        0         1       0       0        1         0   \n",
       "1         1         0        0         0       0       0        0         0   \n",
       "2         0         0        0         0       0       0        0         0   \n",
       "3         1         1        1         0       1       0        1         0   \n",
       "4         0         0        1         0       0       0        1         0   \n",
       "\n",
       "   ItalAtlas  ItalArt  Florence  \n",
       "0          0        0         0  \n",
       "1          0        0         0  \n",
       "2          0        0         0  \n",
       "3          0        0         0  \n",
       "4          0        0         0  "
      ]
     },
     "execution_count": 3,
     "metadata": {},
     "output_type": "execute_result"
    }
   ],
   "source": [
    "book = pd.read_csv('book.csv')\n",
    "book.head()"
   ]
  },
  {
   "cell_type": "code",
   "execution_count": 4,
   "id": "98f559cb",
   "metadata": {
    "ExecuteTime": {
     "end_time": "2022-12-17T10:11:14.838721Z",
     "start_time": "2022-12-17T10:11:14.820042Z"
    }
   },
   "outputs": [
    {
     "data": {
      "text/plain": [
       "(2000, 11)"
      ]
     },
     "execution_count": 4,
     "metadata": {},
     "output_type": "execute_result"
    }
   ],
   "source": [
    "book.shape"
   ]
  },
  {
   "cell_type": "code",
   "execution_count": 5,
   "id": "2c3d8afe",
   "metadata": {
    "ExecuteTime": {
     "end_time": "2022-12-17T10:11:14.870903Z",
     "start_time": "2022-12-17T10:11:14.838721Z"
    }
   },
   "outputs": [
    {
     "name": "stderr",
     "output_type": "stream",
     "text": [
      "C:\\Users\\kulde\\anaconda3\\lib\\site-packages\\mlxtend\\frequent_patterns\\fpcommon.py:111: DeprecationWarning: DataFrames with non-bool types result in worse computationalperformance and their support might be discontinued in the future.Please use a DataFrame with bool type\n",
      "  warnings.warn(\n"
     ]
    }
   ],
   "source": [
    "frequent_itemsets_ap = apriori(book, min_support = 0.1)"
   ]
  },
  {
   "cell_type": "code",
   "execution_count": 6,
   "id": "b01957ba",
   "metadata": {
    "ExecuteTime": {
     "end_time": "2022-12-17T10:11:14.886018Z",
     "start_time": "2022-12-17T10:11:14.873907Z"
    }
   },
   "outputs": [
    {
     "name": "stdout",
     "output_type": "stream",
     "text": [
      "39\n"
     ]
    }
   ],
   "source": [
    "print(len(frequent_itemsets_ap))"
   ]
  },
  {
   "cell_type": "code",
   "execution_count": 7,
   "id": "35e5479a",
   "metadata": {
    "ExecuteTime": {
     "end_time": "2022-12-17T10:11:14.920557Z",
     "start_time": "2022-12-17T10:11:14.889231Z"
    }
   },
   "outputs": [
    {
     "name": "stdout",
     "output_type": "stream",
     "text": [
      "Processing 44 combinations | Sampling itemset size 4\n",
      "   support    itemsets\n",
      "0   0.4230  (ChildBks)\n",
      "1   0.2475  (YouthBks)\n",
      "2   0.4310   (CookBks)\n",
      "3   0.2820  (DoItYBks)\n",
      "4   0.2145    (RefBks)\n"
     ]
    },
    {
     "name": "stderr",
     "output_type": "stream",
     "text": [
      "C:\\Users\\kulde\\anaconda3\\lib\\site-packages\\mlxtend\\frequent_patterns\\fpcommon.py:111: DeprecationWarning: DataFrames with non-bool types result in worse computationalperformance and their support might be discontinued in the future.Please use a DataFrame with bool type\n",
      "  warnings.warn(\n"
     ]
    }
   ],
   "source": [
    "frequent_itemsets_ap = apriori(book, min_support=0.1, use_colnames= True, verbose=1)\n",
    "print(frequent_itemsets_ap.head())"
   ]
  },
  {
   "cell_type": "code",
   "execution_count": 8,
   "id": "2e7a538f",
   "metadata": {
    "ExecuteTime": {
     "end_time": "2022-12-17T10:11:14.951924Z",
     "start_time": "2022-12-17T10:11:14.920557Z"
    }
   },
   "outputs": [
    {
     "data": {
      "text/html": [
       "<div>\n",
       "<style scoped>\n",
       "    .dataframe tbody tr th:only-of-type {\n",
       "        vertical-align: middle;\n",
       "    }\n",
       "\n",
       "    .dataframe tbody tr th {\n",
       "        vertical-align: top;\n",
       "    }\n",
       "\n",
       "    .dataframe thead th {\n",
       "        text-align: right;\n",
       "    }\n",
       "</style>\n",
       "<table border=\"1\" class=\"dataframe\">\n",
       "  <thead>\n",
       "    <tr style=\"text-align: right;\">\n",
       "      <th></th>\n",
       "      <th>support</th>\n",
       "      <th>itemsets</th>\n",
       "    </tr>\n",
       "  </thead>\n",
       "  <tbody>\n",
       "    <tr>\n",
       "      <th>2</th>\n",
       "      <td>0.431</td>\n",
       "      <td>(CookBks)</td>\n",
       "    </tr>\n",
       "    <tr>\n",
       "      <th>0</th>\n",
       "      <td>0.423</td>\n",
       "      <td>(ChildBks)</td>\n",
       "    </tr>\n",
       "    <tr>\n",
       "      <th>3</th>\n",
       "      <td>0.282</td>\n",
       "      <td>(DoItYBks)</td>\n",
       "    </tr>\n",
       "    <tr>\n",
       "      <th>6</th>\n",
       "      <td>0.276</td>\n",
       "      <td>(GeogBks)</td>\n",
       "    </tr>\n",
       "    <tr>\n",
       "      <th>10</th>\n",
       "      <td>0.256</td>\n",
       "      <td>(CookBks, ChildBks)</td>\n",
       "    </tr>\n",
       "  </tbody>\n",
       "</table>\n",
       "</div>"
      ],
      "text/plain": [
       "    support             itemsets\n",
       "2     0.431            (CookBks)\n",
       "0     0.423           (ChildBks)\n",
       "3     0.282           (DoItYBks)\n",
       "6     0.276            (GeogBks)\n",
       "10    0.256  (CookBks, ChildBks)"
      ]
     },
     "execution_count": 8,
     "metadata": {},
     "output_type": "execute_result"
    }
   ],
   "source": [
    "frequent_itemsets_ap.sort_values(\"support\", ascending = False).head()"
   ]
  },
  {
   "cell_type": "code",
   "execution_count": 9,
   "id": "ec728158",
   "metadata": {
    "ExecuteTime": {
     "end_time": "2022-12-17T10:11:14.986440Z",
     "start_time": "2022-12-17T10:11:14.956830Z"
    }
   },
   "outputs": [
    {
     "name": "stdout",
     "output_type": "stream",
     "text": [
      "  antecedents consequents  antecedent support  consequent support  support  \\\n",
      "0  (YouthBks)  (ChildBks)              0.2475               0.423    0.165   \n",
      "1   (CookBks)  (ChildBks)              0.4310               0.423    0.256   \n",
      "2  (ChildBks)   (CookBks)              0.4230               0.431    0.256   \n",
      "3  (DoItYBks)  (ChildBks)              0.2820               0.423    0.184   \n",
      "4  (ChildBks)  (DoItYBks)              0.4230               0.282    0.184   \n",
      "\n",
      "   confidence      lift  leverage  conviction  \n",
      "0    0.666667  1.576044  0.060308    1.731000  \n",
      "1    0.593968  1.404179  0.073687    1.421069  \n",
      "2    0.605201  1.404179  0.073687    1.441240  \n",
      "3    0.652482  1.542511  0.064714    1.660347  \n",
      "4    0.434988  1.542511  0.064714    1.270770  \n"
     ]
    }
   ],
   "source": [
    "rules_ap = association_rules(frequent_itemsets_ap, metric= \"confidence\", min_threshold=0.4)\n",
    "print(rules_ap.head())"
   ]
  },
  {
   "cell_type": "code",
   "execution_count": 10,
   "id": "00f9bea5",
   "metadata": {
    "ExecuteTime": {
     "end_time": "2022-12-17T10:11:15.002174Z",
     "start_time": "2022-12-17T10:11:14.992451Z"
    }
   },
   "outputs": [
    {
     "data": {
      "text/plain": [
       "(70, 9)"
      ]
     },
     "execution_count": 10,
     "metadata": {},
     "output_type": "execute_result"
    }
   ],
   "source": [
    "rules_ap[(rules_ap.support > 0.015) & (rules_ap.confidence > 0.4)].sort_values(\"confidence\", ascending = False).shape"
   ]
  },
  {
   "cell_type": "code",
   "execution_count": 11,
   "id": "7ac6d8a1",
   "metadata": {
    "ExecuteTime": {
     "end_time": "2022-12-17T10:11:15.034308Z",
     "start_time": "2022-12-17T10:11:15.002174Z"
    }
   },
   "outputs": [
    {
     "data": {
      "text/html": [
       "<div>\n",
       "<style scoped>\n",
       "    .dataframe tbody tr th:only-of-type {\n",
       "        vertical-align: middle;\n",
       "    }\n",
       "\n",
       "    .dataframe tbody tr th {\n",
       "        vertical-align: top;\n",
       "    }\n",
       "\n",
       "    .dataframe thead th {\n",
       "        text-align: right;\n",
       "    }\n",
       "</style>\n",
       "<table border=\"1\" class=\"dataframe\">\n",
       "  <thead>\n",
       "    <tr style=\"text-align: right;\">\n",
       "      <th></th>\n",
       "      <th>antecedents</th>\n",
       "      <th>consequents</th>\n",
       "      <th>antecedent support</th>\n",
       "      <th>consequent support</th>\n",
       "      <th>support</th>\n",
       "      <th>confidence</th>\n",
       "      <th>lift</th>\n",
       "      <th>leverage</th>\n",
       "      <th>conviction</th>\n",
       "      <th>lhs items</th>\n",
       "    </tr>\n",
       "  </thead>\n",
       "  <tbody>\n",
       "    <tr>\n",
       "      <th>55</th>\n",
       "      <td>(ArtBks, ChildBks)</td>\n",
       "      <td>(GeogBks)</td>\n",
       "      <td>0.1625</td>\n",
       "      <td>0.2760</td>\n",
       "      <td>0.1020</td>\n",
       "      <td>0.627692</td>\n",
       "      <td>2.274247</td>\n",
       "      <td>0.057150</td>\n",
       "      <td>1.944628</td>\n",
       "      <td>2</td>\n",
       "    </tr>\n",
       "    <tr>\n",
       "      <th>60</th>\n",
       "      <td>(CookBks, DoItYBks)</td>\n",
       "      <td>(ArtBks)</td>\n",
       "      <td>0.1875</td>\n",
       "      <td>0.2410</td>\n",
       "      <td>0.1015</td>\n",
       "      <td>0.541333</td>\n",
       "      <td>2.246196</td>\n",
       "      <td>0.056313</td>\n",
       "      <td>1.654797</td>\n",
       "      <td>2</td>\n",
       "    </tr>\n",
       "    <tr>\n",
       "      <th>66</th>\n",
       "      <td>(CookBks, ArtBks)</td>\n",
       "      <td>(GeogBks)</td>\n",
       "      <td>0.1670</td>\n",
       "      <td>0.2760</td>\n",
       "      <td>0.1035</td>\n",
       "      <td>0.619760</td>\n",
       "      <td>2.245509</td>\n",
       "      <td>0.057408</td>\n",
       "      <td>1.904063</td>\n",
       "      <td>2</td>\n",
       "    </tr>\n",
       "    <tr>\n",
       "      <th>67</th>\n",
       "      <td>(CookBks, GeogBks)</td>\n",
       "      <td>(ArtBks)</td>\n",
       "      <td>0.1925</td>\n",
       "      <td>0.2410</td>\n",
       "      <td>0.1035</td>\n",
       "      <td>0.537662</td>\n",
       "      <td>2.230964</td>\n",
       "      <td>0.057107</td>\n",
       "      <td>1.641657</td>\n",
       "      <td>2</td>\n",
       "    </tr>\n",
       "    <tr>\n",
       "      <th>40</th>\n",
       "      <td>(CookBks, ChildBks)</td>\n",
       "      <td>(RefBks)</td>\n",
       "      <td>0.2560</td>\n",
       "      <td>0.2145</td>\n",
       "      <td>0.1225</td>\n",
       "      <td>0.478516</td>\n",
       "      <td>2.230842</td>\n",
       "      <td>0.067588</td>\n",
       "      <td>1.506277</td>\n",
       "      <td>2</td>\n",
       "    </tr>\n",
       "  </tbody>\n",
       "</table>\n",
       "</div>"
      ],
      "text/plain": [
       "            antecedents consequents  antecedent support  consequent support  \\\n",
       "55   (ArtBks, ChildBks)   (GeogBks)              0.1625              0.2760   \n",
       "60  (CookBks, DoItYBks)    (ArtBks)              0.1875              0.2410   \n",
       "66    (CookBks, ArtBks)   (GeogBks)              0.1670              0.2760   \n",
       "67   (CookBks, GeogBks)    (ArtBks)              0.1925              0.2410   \n",
       "40  (CookBks, ChildBks)    (RefBks)              0.2560              0.2145   \n",
       "\n",
       "    support  confidence      lift  leverage  conviction  lhs items  \n",
       "55   0.1020    0.627692  2.274247  0.057150    1.944628          2  \n",
       "60   0.1015    0.541333  2.246196  0.056313    1.654797          2  \n",
       "66   0.1035    0.619760  2.245509  0.057408    1.904063          2  \n",
       "67   0.1035    0.537662  2.230964  0.057107    1.641657          2  \n",
       "40   0.1225    0.478516  2.230842  0.067588    1.506277          2  "
      ]
     },
     "execution_count": 11,
     "metadata": {},
     "output_type": "execute_result"
    }
   ],
   "source": [
    "rules_ap['lhs items'] = rules_ap['antecedents'].apply(lambda x:len(x) )\n",
    "rules_ap[rules_ap['lhs items']>1].sort_values('lift', ascending=False).head()"
   ]
  },
  {
   "cell_type": "code",
   "execution_count": 12,
   "id": "58d88b8d",
   "metadata": {
    "ExecuteTime": {
     "end_time": "2022-12-17T10:11:15.555160Z",
     "start_time": "2022-12-17T10:11:15.037330Z"
    }
   },
   "outputs": [
    {
     "data": {
      "text/plain": [
       "(array([0.5, 1.5, 2.5, 3.5, 4.5, 5.5, 6.5]),\n",
       " [Text(0.5, 0, 'ArtBks'),\n",
       "  Text(1.5, 0, 'ChildBks'),\n",
       "  Text(2.5, 0, 'CookBks'),\n",
       "  Text(3.5, 0, 'DoItYBks'),\n",
       "  Text(4.5, 0, 'GeogBks'),\n",
       "  Text(5.5, 0, 'RefBks'),\n",
       "  Text(6.5, 0, 'YouthBks')])"
      ]
     },
     "execution_count": 12,
     "metadata": {},
     "output_type": "execute_result"
    },
    {
     "data": {
      "image/png": "[encoded data removed]",
      "text/plain": [
       "<Figure size 432x288 with 2 Axes>"
      ]
     },
     "metadata": {
      "needs_background": "light"
     },
     "output_type": "display_data"
    }
   ],
   "source": [
    "rules_ap['antecedents_'] = rules_ap['antecedents'].apply(lambda a: ','.join(list(a)))\n",
    "rules_ap['consequents_'] = rules_ap['consequents'].apply(lambda a: ','.join(list(a)))\n",
    "# Transform the DataFrame of rules into a matrix using the confidence metric\n",
    "pivot = rules_ap[rules_ap['lhs items']>1].pivot(index = 'antecedents_', \n",
    "                    columns = 'consequents_', values= 'confidence')\n",
    "# Generate a heatmap with annotations \n",
    "sns.heatmap(pivot, annot = True)\n",
    "plt.title('Heat Map - For Confidence Metric')\n",
    "plt.yticks(rotation=0)\n",
    "plt.xticks(rotation=90)"
   ]
  },
  {
   "cell_type": "code",
   "execution_count": 13,
   "id": "dead61dc",
   "metadata": {
    "ExecuteTime": {
     "end_time": "2022-12-17T10:11:15.571900Z",
     "start_time": "2022-12-17T10:11:15.557247Z"
    }
   },
   "outputs": [
    {
     "name": "stdout",
     "output_type": "stream",
     "text": [
      "(100, 9)\n"
     ]
    }
   ],
   "source": [
    "rules_ap_li = association_rules(frequent_itemsets_ap, metric=\"lift\", min_threshold=0.6)\n",
    "print(rules_ap_li.shape)"
   ]
  },
  {
   "cell_type": "code",
   "execution_count": 14,
   "id": "10adbe1b",
   "metadata": {
    "ExecuteTime": {
     "end_time": "2022-12-17T10:11:15.606069Z",
     "start_time": "2022-12-17T10:11:15.571900Z"
    }
   },
   "outputs": [
    {
     "data": {
      "text/html": [
       "<div>\n",
       "<style scoped>\n",
       "    .dataframe tbody tr th:only-of-type {\n",
       "        vertical-align: middle;\n",
       "    }\n",
       "\n",
       "    .dataframe tbody tr th {\n",
       "        vertical-align: top;\n",
       "    }\n",
       "\n",
       "    .dataframe thead th {\n",
       "        text-align: right;\n",
       "    }\n",
       "</style>\n",
       "<table border=\"1\" class=\"dataframe\">\n",
       "  <thead>\n",
       "    <tr style=\"text-align: right;\">\n",
       "      <th></th>\n",
       "      <th>antecedents</th>\n",
       "      <th>consequents</th>\n",
       "      <th>antecedent support</th>\n",
       "      <th>consequent support</th>\n",
       "      <th>support</th>\n",
       "      <th>confidence</th>\n",
       "      <th>lift</th>\n",
       "      <th>leverage</th>\n",
       "      <th>conviction</th>\n",
       "      <th>lhs items</th>\n",
       "    </tr>\n",
       "  </thead>\n",
       "  <tbody>\n",
       "    <tr>\n",
       "      <th>76</th>\n",
       "      <td>(ArtBks, ChildBks)</td>\n",
       "      <td>(GeogBks)</td>\n",
       "      <td>0.1625</td>\n",
       "      <td>0.2760</td>\n",
       "      <td>0.1020</td>\n",
       "      <td>0.627692</td>\n",
       "      <td>2.274247</td>\n",
       "      <td>0.057150</td>\n",
       "      <td>1.944628</td>\n",
       "      <td>2</td>\n",
       "    </tr>\n",
       "    <tr>\n",
       "      <th>83</th>\n",
       "      <td>(CookBks, DoItYBks)</td>\n",
       "      <td>(ArtBks)</td>\n",
       "      <td>0.1875</td>\n",
       "      <td>0.2410</td>\n",
       "      <td>0.1015</td>\n",
       "      <td>0.541333</td>\n",
       "      <td>2.246196</td>\n",
       "      <td>0.056313</td>\n",
       "      <td>1.654797</td>\n",
       "      <td>2</td>\n",
       "    </tr>\n",
       "    <tr>\n",
       "      <th>94</th>\n",
       "      <td>(CookBks, ArtBks)</td>\n",
       "      <td>(GeogBks)</td>\n",
       "      <td>0.1670</td>\n",
       "      <td>0.2760</td>\n",
       "      <td>0.1035</td>\n",
       "      <td>0.619760</td>\n",
       "      <td>2.245509</td>\n",
       "      <td>0.057408</td>\n",
       "      <td>1.904063</td>\n",
       "      <td>2</td>\n",
       "    </tr>\n",
       "    <tr>\n",
       "      <th>95</th>\n",
       "      <td>(CookBks, GeogBks)</td>\n",
       "      <td>(ArtBks)</td>\n",
       "      <td>0.1925</td>\n",
       "      <td>0.2410</td>\n",
       "      <td>0.1035</td>\n",
       "      <td>0.537662</td>\n",
       "      <td>2.230964</td>\n",
       "      <td>0.057107</td>\n",
       "      <td>1.641657</td>\n",
       "      <td>2</td>\n",
       "    </tr>\n",
       "    <tr>\n",
       "      <th>52</th>\n",
       "      <td>(CookBks, ChildBks)</td>\n",
       "      <td>(RefBks)</td>\n",
       "      <td>0.2560</td>\n",
       "      <td>0.2145</td>\n",
       "      <td>0.1225</td>\n",
       "      <td>0.478516</td>\n",
       "      <td>2.230842</td>\n",
       "      <td>0.067588</td>\n",
       "      <td>1.506277</td>\n",
       "      <td>2</td>\n",
       "    </tr>\n",
       "  </tbody>\n",
       "</table>\n",
       "</div>"
      ],
      "text/plain": [
       "            antecedents consequents  antecedent support  consequent support  \\\n",
       "76   (ArtBks, ChildBks)   (GeogBks)              0.1625              0.2760   \n",
       "83  (CookBks, DoItYBks)    (ArtBks)              0.1875              0.2410   \n",
       "94    (CookBks, ArtBks)   (GeogBks)              0.1670              0.2760   \n",
       "95   (CookBks, GeogBks)    (ArtBks)              0.1925              0.2410   \n",
       "52  (CookBks, ChildBks)    (RefBks)              0.2560              0.2145   \n",
       "\n",
       "    support  confidence      lift  leverage  conviction  lhs items  \n",
       "76   0.1020    0.627692  2.274247  0.057150    1.944628          2  \n",
       "83   0.1015    0.541333  2.246196  0.056313    1.654797          2  \n",
       "94   0.1035    0.619760  2.245509  0.057408    1.904063          2  \n",
       "95   0.1035    0.537662  2.230964  0.057107    1.641657          2  \n",
       "52   0.1225    0.478516  2.230842  0.067588    1.506277          2  "
      ]
     },
     "execution_count": 14,
     "metadata": {},
     "output_type": "execute_result"
    }
   ],
   "source": [
    "rules_ap_li['lhs items'] = rules_ap_li['antecedents'].apply(lambda x:len(x) )\n",
    "rules_ap_li[rules_ap_li['lhs items']>1].sort_values('lift', ascending=False).head()"
   ]
  },
  {
   "cell_type": "code",
   "execution_count": 15,
   "id": "227fc586",
   "metadata": {
    "ExecuteTime": {
     "end_time": "2022-12-17T10:11:16.056192Z",
     "start_time": "2022-12-17T10:11:15.606893Z"
    }
   },
   "outputs": [
    {
     "data": {
      "text/plain": [
       "(array([0.5, 1.5, 2.5, 3.5, 4.5, 5.5, 6.5]),\n",
       " [Text(0.5, 0, 'ArtBks'),\n",
       "  Text(1.5, 0, 'ChildBks'),\n",
       "  Text(2.5, 0, 'CookBks'),\n",
       "  Text(3.5, 0, 'DoItYBks'),\n",
       "  Text(4.5, 0, 'GeogBks'),\n",
       "  Text(5.5, 0, 'RefBks'),\n",
       "  Text(6.5, 0, 'YouthBks')])"
      ]
     },
     "execution_count": 15,
     "metadata": {},
     "output_type": "execute_result"
    },
    {
     "data": {
      "image/png": "[encoded data removed]",
      "text/plain": [
       "<Figure size 432x288 with 2 Axes>"
      ]
     },
     "metadata": {
      "needs_background": "light"
     },
     "output_type": "display_data"
    }
   ],
   "source": [
    "# Replace frozen sets with strings\n",
    "rules_ap_li['antecedents_'] = rules_ap_li['antecedents'].apply(lambda a: ','.join(list(a)))\n",
    "rules_ap_li['consequents_'] = rules_ap_li['consequents'].apply(lambda a: ','.join(list(a)))\n",
    "# Transform the DataFrame of rules into a matrix using the lift metric\n",
    "pivot = rules_ap_li[rules_ap_li['lhs items']>1].pivot(index = 'antecedents_', \n",
    "                    columns = 'consequents_', values= 'lift')\n",
    "# Generate a heatmap with annotations on and the colorbar off\n",
    "sns.heatmap(pivot, annot = True)\n",
    "plt.title('Heat Map - For Lift Metric')\n",
    "plt.yticks(rotation=0)\n",
    "plt.xticks(rotation=90)"
   ]
  },
  {
   "cell_type": "markdown",
   "id": "8f43633a",
   "metadata": {},
   "source": [
    "# FpGrowth Algorithm"
   ]
  },
  {
   "cell_type": "code",
   "execution_count": 16,
   "id": "32641448",
   "metadata": {
    "ExecuteTime": {
     "end_time": "2022-12-17T10:11:16.087646Z",
     "start_time": "2022-12-17T10:11:16.058148Z"
    }
   },
   "outputs": [
    {
     "name": "stdout",
     "output_type": "stream",
     "text": [
      "9 itemset(s) from tree conditioned on items ()\n",
      "2 itemset(s) from tree conditioned on items (DoItYBks)\n",
      "1 itemset(s) from tree conditioned on items (DoItYBks, ChildBks)\n",
      "0 itemset(s) from tree conditioned on items (DoItYBks, CookBks)\n",
      "3 itemset(s) from tree conditioned on items (GeogBks)\n",
      "2 itemset(s) from tree conditioned on items (GeogBks, DoItYBks)\n",
      "0 itemset(s) from tree conditioned on items (GeogBks, DoItYBks, CookBks)\n",
      "0 itemset(s) from tree conditioned on items (GeogBks, DoItYBks, ChildBks)\n",
      "0 itemset(s) from tree conditioned on items (GeogBks, ChildBks)\n",
      "1 itemset(s) from tree conditioned on items (GeogBks, CookBks)\n",
      "4 itemset(s) from tree conditioned on items (YouthBks)\n",
      "0 itemset(s) from tree conditioned on items (YouthBks, GeogBks)\n",
      "0 itemset(s) from tree conditioned on items (YouthBks, DoItYBks)\n",
      "0 itemset(s) from tree conditioned on items (YouthBks, ChildBks)\n",
      "1 itemset(s) from tree conditioned on items (YouthBks, CookBks)\n",
      "1 itemset(s) from tree conditioned on items (ChildBks)\n",
      "0 itemset(s) from tree conditioned on items (CookBks)\n",
      "4 itemset(s) from tree conditioned on items (RefBks)\n",
      "0 itemset(s) from tree conditioned on items (RefBks, CookBks)\n",
      "1 itemset(s) from tree conditioned on items (RefBks, ChildBks)\n",
      "0 itemset(s) from tree conditioned on items (RefBks, GeogBks)\n",
      "0 itemset(s) from tree conditioned on items (RefBks, DoItYBks)\n",
      "5 itemset(s) from tree conditioned on items (ArtBks)\n",
      "1 itemset(s) from tree conditioned on items (ArtBks, ChildBks)\n",
      "1 itemset(s) from tree conditioned on items (ArtBks, DoItYBks)\n",
      "0 itemset(s) from tree conditioned on items (ArtBks, YouthBks)\n",
      "0 itemset(s) from tree conditioned on items (ArtBks, CookBks)\n",
      "2 itemset(s) from tree conditioned on items (ArtBks, GeogBks)\n",
      "0 itemset(s) from tree conditioned on items (ArtBks, GeogBks, CookBks)\n",
      "0 itemset(s) from tree conditioned on items (ArtBks, GeogBks, ChildBks)\n",
      "0 itemset(s) from tree conditioned on items (Florence)\n",
      "1 itemset(s) from tree conditioned on items (ItalCook)\n",
      "(39, 2)\n"
     ]
    },
    {
     "name": "stderr",
     "output_type": "stream",
     "text": [
      "C:\\Users\\kulde\\anaconda3\\lib\\site-packages\\mlxtend\\frequent_patterns\\fpcommon.py:111: DeprecationWarning: DataFrames with non-bool types result in worse computationalperformance and their support might be discontinued in the future.Please use a DataFrame with bool type\n",
      "  warnings.warn(\n"
     ]
    }
   ],
   "source": [
    "frequent_itemsets_fp=fpgrowth(book, min_support=0.1, use_colnames=True,verbose=1)\n",
    "print(frequent_itemsets_fp.shape)"
   ]
  },
  {
   "cell_type": "code",
   "execution_count": 17,
   "id": "5d882e00",
   "metadata": {
    "ExecuteTime": {
     "end_time": "2022-12-17T10:11:16.121089Z",
     "start_time": "2022-12-17T10:11:16.092786Z"
    }
   },
   "outputs": [
    {
     "data": {
      "text/html": [
       "<div>\n",
       "<style scoped>\n",
       "    .dataframe tbody tr th:only-of-type {\n",
       "        vertical-align: middle;\n",
       "    }\n",
       "\n",
       "    .dataframe tbody tr th {\n",
       "        vertical-align: top;\n",
       "    }\n",
       "\n",
       "    .dataframe thead th {\n",
       "        text-align: right;\n",
       "    }\n",
       "</style>\n",
       "<table border=\"1\" class=\"dataframe\">\n",
       "  <thead>\n",
       "    <tr style=\"text-align: right;\">\n",
       "      <th></th>\n",
       "      <th>support</th>\n",
       "      <th>itemsets</th>\n",
       "    </tr>\n",
       "  </thead>\n",
       "  <tbody>\n",
       "    <tr>\n",
       "      <th>4</th>\n",
       "      <td>0.431</td>\n",
       "      <td>(CookBks)</td>\n",
       "    </tr>\n",
       "    <tr>\n",
       "      <th>3</th>\n",
       "      <td>0.423</td>\n",
       "      <td>(ChildBks)</td>\n",
       "    </tr>\n",
       "    <tr>\n",
       "      <th>0</th>\n",
       "      <td>0.282</td>\n",
       "      <td>(DoItYBks)</td>\n",
       "    </tr>\n",
       "    <tr>\n",
       "      <th>1</th>\n",
       "      <td>0.276</td>\n",
       "      <td>(GeogBks)</td>\n",
       "    </tr>\n",
       "    <tr>\n",
       "      <th>23</th>\n",
       "      <td>0.256</td>\n",
       "      <td>(CookBks, ChildBks)</td>\n",
       "    </tr>\n",
       "  </tbody>\n",
       "</table>\n",
       "</div>"
      ],
      "text/plain": [
       "    support             itemsets\n",
       "4     0.431            (CookBks)\n",
       "3     0.423           (ChildBks)\n",
       "0     0.282           (DoItYBks)\n",
       "1     0.276            (GeogBks)\n",
       "23    0.256  (CookBks, ChildBks)"
      ]
     },
     "execution_count": 17,
     "metadata": {},
     "output_type": "execute_result"
    }
   ],
   "source": [
    "\n",
    "frequent_itemsets_fp.sort_values(\"support\", ascending = False).head()"
   ]
  },
  {
   "cell_type": "code",
   "execution_count": 18,
   "id": "79c268fa",
   "metadata": {
    "ExecuteTime": {
     "end_time": "2022-12-17T10:11:16.131432Z",
     "start_time": "2022-12-17T10:11:16.122585Z"
    }
   },
   "outputs": [
    {
     "name": "stdout",
     "output_type": "stream",
     "text": [
      "(49, 9)\n"
     ]
    }
   ],
   "source": [
    "\n",
    "rules_fp = association_rules(frequent_itemsets_fp, metric=\"confidence\", min_threshold=0.5)\n",
    "print(rules_fp.shape)"
   ]
  },
  {
   "cell_type": "code",
   "execution_count": 19,
   "id": "f3b43dc4",
   "metadata": {
    "ExecuteTime": {
     "end_time": "2022-12-17T10:11:16.162893Z",
     "start_time": "2022-12-17T10:11:16.131432Z"
    }
   },
   "outputs": [
    {
     "data": {
      "text/html": [
       "<div>\n",
       "<style scoped>\n",
       "    .dataframe tbody tr th:only-of-type {\n",
       "        vertical-align: middle;\n",
       "    }\n",
       "\n",
       "    .dataframe tbody tr th {\n",
       "        vertical-align: top;\n",
       "    }\n",
       "\n",
       "    .dataframe thead th {\n",
       "        text-align: right;\n",
       "    }\n",
       "</style>\n",
       "<table border=\"1\" class=\"dataframe\">\n",
       "  <thead>\n",
       "    <tr style=\"text-align: right;\">\n",
       "      <th></th>\n",
       "      <th>antecedents</th>\n",
       "      <th>consequents</th>\n",
       "      <th>antecedent support</th>\n",
       "      <th>consequent support</th>\n",
       "      <th>support</th>\n",
       "      <th>confidence</th>\n",
       "      <th>lift</th>\n",
       "      <th>leverage</th>\n",
       "      <th>conviction</th>\n",
       "    </tr>\n",
       "  </thead>\n",
       "  <tbody>\n",
       "    <tr>\n",
       "      <th>26</th>\n",
       "      <td>(RefBks)</td>\n",
       "      <td>(CookBks)</td>\n",
       "      <td>0.2145</td>\n",
       "      <td>0.431</td>\n",
       "      <td>0.1525</td>\n",
       "      <td>0.710956</td>\n",
       "      <td>1.649549</td>\n",
       "      <td>0.060050</td>\n",
       "      <td>1.968556</td>\n",
       "    </tr>\n",
       "    <tr>\n",
       "      <th>6</th>\n",
       "      <td>(GeogBks)</td>\n",
       "      <td>(ChildBks)</td>\n",
       "      <td>0.2760</td>\n",
       "      <td>0.423</td>\n",
       "      <td>0.1950</td>\n",
       "      <td>0.706522</td>\n",
       "      <td>1.670264</td>\n",
       "      <td>0.078252</td>\n",
       "      <td>1.966074</td>\n",
       "    </tr>\n",
       "    <tr>\n",
       "      <th>27</th>\n",
       "      <td>(RefBks)</td>\n",
       "      <td>(ChildBks)</td>\n",
       "      <td>0.2145</td>\n",
       "      <td>0.423</td>\n",
       "      <td>0.1515</td>\n",
       "      <td>0.706294</td>\n",
       "      <td>1.669725</td>\n",
       "      <td>0.060767</td>\n",
       "      <td>1.964548</td>\n",
       "    </tr>\n",
       "    <tr>\n",
       "      <th>7</th>\n",
       "      <td>(GeogBks)</td>\n",
       "      <td>(CookBks)</td>\n",
       "      <td>0.2760</td>\n",
       "      <td>0.431</td>\n",
       "      <td>0.1925</td>\n",
       "      <td>0.697464</td>\n",
       "      <td>1.618245</td>\n",
       "      <td>0.073544</td>\n",
       "      <td>1.880766</td>\n",
       "    </tr>\n",
       "    <tr>\n",
       "      <th>34</th>\n",
       "      <td>(ArtBks)</td>\n",
       "      <td>(CookBks)</td>\n",
       "      <td>0.2410</td>\n",
       "      <td>0.431</td>\n",
       "      <td>0.1670</td>\n",
       "      <td>0.692946</td>\n",
       "      <td>1.607763</td>\n",
       "      <td>0.063129</td>\n",
       "      <td>1.853095</td>\n",
       "    </tr>\n",
       "  </tbody>\n",
       "</table>\n",
       "</div>"
      ],
      "text/plain": [
       "   antecedents consequents  antecedent support  consequent support  support  \\\n",
       "26    (RefBks)   (CookBks)              0.2145               0.431   0.1525   \n",
       "6    (GeogBks)  (ChildBks)              0.2760               0.423   0.1950   \n",
       "27    (RefBks)  (ChildBks)              0.2145               0.423   0.1515   \n",
       "7    (GeogBks)   (CookBks)              0.2760               0.431   0.1925   \n",
       "34    (ArtBks)   (CookBks)              0.2410               0.431   0.1670   \n",
       "\n",
       "    confidence      lift  leverage  conviction  \n",
       "26    0.710956  1.649549  0.060050    1.968556  \n",
       "6     0.706522  1.670264  0.078252    1.966074  \n",
       "27    0.706294  1.669725  0.060767    1.964548  \n",
       "7     0.697464  1.618245  0.073544    1.880766  \n",
       "34    0.692946  1.607763  0.063129    1.853095  "
      ]
     },
     "execution_count": 19,
     "metadata": {},
     "output_type": "execute_result"
    }
   ],
   "source": [
    "rules_fp[(rules_fp.support > 0.15) & (rules_fp.confidence > 0.4)].sort_values(\"confidence\", ascending = False).head()"
   ]
  },
  {
   "cell_type": "code",
   "execution_count": 20,
   "id": "36cff521",
   "metadata": {
    "ExecuteTime": {
     "end_time": "2022-12-17T10:11:16.205150Z",
     "start_time": "2022-12-17T10:11:16.166930Z"
    }
   },
   "outputs": [
    {
     "data": {
      "text/html": [
       "<div>\n",
       "<style scoped>\n",
       "    .dataframe tbody tr th:only-of-type {\n",
       "        vertical-align: middle;\n",
       "    }\n",
       "\n",
       "    .dataframe tbody tr th {\n",
       "        vertical-align: top;\n",
       "    }\n",
       "\n",
       "    .dataframe thead th {\n",
       "        text-align: right;\n",
       "    }\n",
       "</style>\n",
       "<table border=\"1\" class=\"dataframe\">\n",
       "  <thead>\n",
       "    <tr style=\"text-align: right;\">\n",
       "      <th></th>\n",
       "      <th>antecedents</th>\n",
       "      <th>consequents</th>\n",
       "      <th>antecedent support</th>\n",
       "      <th>consequent support</th>\n",
       "      <th>support</th>\n",
       "      <th>confidence</th>\n",
       "      <th>lift</th>\n",
       "      <th>leverage</th>\n",
       "      <th>conviction</th>\n",
       "      <th>lhs items</th>\n",
       "    </tr>\n",
       "  </thead>\n",
       "  <tbody>\n",
       "    <tr>\n",
       "      <th>45</th>\n",
       "      <td>(ArtBks, ChildBks)</td>\n",
       "      <td>(GeogBks)</td>\n",
       "      <td>0.1625</td>\n",
       "      <td>0.276</td>\n",
       "      <td>0.1020</td>\n",
       "      <td>0.627692</td>\n",
       "      <td>2.274247</td>\n",
       "      <td>0.057150</td>\n",
       "      <td>1.944628</td>\n",
       "      <td>2</td>\n",
       "    </tr>\n",
       "    <tr>\n",
       "      <th>40</th>\n",
       "      <td>(CookBks, DoItYBks)</td>\n",
       "      <td>(ArtBks)</td>\n",
       "      <td>0.1875</td>\n",
       "      <td>0.241</td>\n",
       "      <td>0.1015</td>\n",
       "      <td>0.541333</td>\n",
       "      <td>2.246196</td>\n",
       "      <td>0.056313</td>\n",
       "      <td>1.654797</td>\n",
       "      <td>2</td>\n",
       "    </tr>\n",
       "    <tr>\n",
       "      <th>42</th>\n",
       "      <td>(CookBks, ArtBks)</td>\n",
       "      <td>(GeogBks)</td>\n",
       "      <td>0.1670</td>\n",
       "      <td>0.276</td>\n",
       "      <td>0.1035</td>\n",
       "      <td>0.619760</td>\n",
       "      <td>2.245509</td>\n",
       "      <td>0.057408</td>\n",
       "      <td>1.904063</td>\n",
       "      <td>2</td>\n",
       "    </tr>\n",
       "    <tr>\n",
       "      <th>43</th>\n",
       "      <td>(CookBks, GeogBks)</td>\n",
       "      <td>(ArtBks)</td>\n",
       "      <td>0.1925</td>\n",
       "      <td>0.241</td>\n",
       "      <td>0.1035</td>\n",
       "      <td>0.537662</td>\n",
       "      <td>2.230964</td>\n",
       "      <td>0.057107</td>\n",
       "      <td>1.641657</td>\n",
       "      <td>2</td>\n",
       "    </tr>\n",
       "    <tr>\n",
       "      <th>47</th>\n",
       "      <td>(ChildBks, GeogBks)</td>\n",
       "      <td>(ArtBks)</td>\n",
       "      <td>0.1950</td>\n",
       "      <td>0.241</td>\n",
       "      <td>0.1020</td>\n",
       "      <td>0.523077</td>\n",
       "      <td>2.170444</td>\n",
       "      <td>0.055005</td>\n",
       "      <td>1.591452</td>\n",
       "      <td>2</td>\n",
       "    </tr>\n",
       "  </tbody>\n",
       "</table>\n",
       "</div>"
      ],
      "text/plain": [
       "            antecedents consequents  antecedent support  consequent support  \\\n",
       "45   (ArtBks, ChildBks)   (GeogBks)              0.1625               0.276   \n",
       "40  (CookBks, DoItYBks)    (ArtBks)              0.1875               0.241   \n",
       "42    (CookBks, ArtBks)   (GeogBks)              0.1670               0.276   \n",
       "43   (CookBks, GeogBks)    (ArtBks)              0.1925               0.241   \n",
       "47  (ChildBks, GeogBks)    (ArtBks)              0.1950               0.241   \n",
       "\n",
       "    support  confidence      lift  leverage  conviction  lhs items  \n",
       "45   0.1020    0.627692  2.274247  0.057150    1.944628          2  \n",
       "40   0.1015    0.541333  2.246196  0.056313    1.654797          2  \n",
       "42   0.1035    0.619760  2.245509  0.057408    1.904063          2  \n",
       "43   0.1035    0.537662  2.230964  0.057107    1.641657          2  \n",
       "47   0.1020    0.523077  2.170444  0.055005    1.591452          2  "
      ]
     },
     "execution_count": 20,
     "metadata": {},
     "output_type": "execute_result"
    }
   ],
   "source": [
    "rules_fp['lhs items'] = rules_fp['antecedents'].apply(lambda x:len(x) )\n",
    "rules_fp[rules_fp['lhs items']>1].sort_values('lift', ascending=False).head()"
   ]
  },
  {
   "cell_type": "code",
   "execution_count": 21,
   "id": "481a039c",
   "metadata": {
    "ExecuteTime": {
     "end_time": "2022-12-17T10:11:16.661090Z",
     "start_time": "2022-12-17T10:11:16.206703Z"
    }
   },
   "outputs": [
    {
     "data": {
      "text/plain": [
       "(array([0.5, 1.5, 2.5, 3.5, 4.5, 5.5]),\n",
       " [Text(0.5, 0, 'ArtBks'),\n",
       "  Text(1.5, 0, 'ChildBks'),\n",
       "  Text(2.5, 0, 'CookBks'),\n",
       "  Text(3.5, 0, 'DoItYBks'),\n",
       "  Text(4.5, 0, 'GeogBks'),\n",
       "  Text(5.5, 0, 'YouthBks')])"
      ]
     },
     "execution_count": 21,
     "metadata": {},
     "output_type": "execute_result"
    },
    {
     "data": {
      "image/png": "[encoded data removed]",
      "text/plain": [
       "<Figure size 432x288 with 2 Axes>"
      ]
     },
     "metadata": {
      "needs_background": "light"
     },
     "output_type": "display_data"
    }
   ],
   "source": [
    "rules_fp['antecedents_'] = rules_fp['antecedents'].apply(lambda a: ','.join(list(a)))\n",
    "rules_fp['consequents_'] = rules_fp['consequents'].apply(lambda a: ','.join(list(a)))\n",
    "# Transform the DataFrame of rules into a matrix using the confidence metric\n",
    "pivot = rules_fp[rules_fp['lhs items']>1].pivot(index = 'antecedents_', \n",
    "                    columns = 'consequents_', values= 'confidence')\n",
    "# Generate a heatmap with annotations \n",
    "sns.heatmap(pivot, annot = True)\n",
    "plt.title('Heat Map - For Confidence Metric')\n",
    "plt.yticks(rotation=0)\n",
    "plt.xticks(rotation=90)"
   ]
  },
  {
   "cell_type": "code",
   "execution_count": 22,
   "id": "f3434d73",
   "metadata": {
    "ExecuteTime": {
     "end_time": "2022-12-17T10:11:16.677381Z",
     "start_time": "2022-12-17T10:11:16.663355Z"
    }
   },
   "outputs": [
    {
     "name": "stdout",
     "output_type": "stream",
     "text": [
      "(100, 9)\n"
     ]
    }
   ],
   "source": [
    "rules_fp_li = association_rules(frequent_itemsets_fp, metric=\"lift\", min_threshold=0.6)\n",
    "print(rules_fp_li.shape)"
   ]
  },
  {
   "cell_type": "code",
   "execution_count": 23,
   "id": "685ca404",
   "metadata": {
    "ExecuteTime": {
     "end_time": "2022-12-17T10:11:16.708666Z",
     "start_time": "2022-12-17T10:11:16.678887Z"
    }
   },
   "outputs": [
    {
     "data": {
      "text/html": [
       "<div>\n",
       "<style scoped>\n",
       "    .dataframe tbody tr th:only-of-type {\n",
       "        vertical-align: middle;\n",
       "    }\n",
       "\n",
       "    .dataframe tbody tr th {\n",
       "        vertical-align: top;\n",
       "    }\n",
       "\n",
       "    .dataframe thead th {\n",
       "        text-align: right;\n",
       "    }\n",
       "</style>\n",
       "<table border=\"1\" class=\"dataframe\">\n",
       "  <thead>\n",
       "    <tr style=\"text-align: right;\">\n",
       "      <th></th>\n",
       "      <th>antecedents</th>\n",
       "      <th>consequents</th>\n",
       "      <th>antecedent support</th>\n",
       "      <th>consequent support</th>\n",
       "      <th>support</th>\n",
       "      <th>confidence</th>\n",
       "      <th>lift</th>\n",
       "      <th>leverage</th>\n",
       "      <th>conviction</th>\n",
       "      <th>lhs items</th>\n",
       "    </tr>\n",
       "  </thead>\n",
       "  <tbody>\n",
       "    <tr>\n",
       "      <th>92</th>\n",
       "      <td>(ArtBks, ChildBks)</td>\n",
       "      <td>(GeogBks)</td>\n",
       "      <td>0.1625</td>\n",
       "      <td>0.2760</td>\n",
       "      <td>0.1020</td>\n",
       "      <td>0.627692</td>\n",
       "      <td>2.274247</td>\n",
       "      <td>0.057150</td>\n",
       "      <td>1.944628</td>\n",
       "      <td>2</td>\n",
       "    </tr>\n",
       "    <tr>\n",
       "      <th>81</th>\n",
       "      <td>(CookBks, DoItYBks)</td>\n",
       "      <td>(ArtBks)</td>\n",
       "      <td>0.1875</td>\n",
       "      <td>0.2410</td>\n",
       "      <td>0.1015</td>\n",
       "      <td>0.541333</td>\n",
       "      <td>2.246196</td>\n",
       "      <td>0.056313</td>\n",
       "      <td>1.654797</td>\n",
       "      <td>2</td>\n",
       "    </tr>\n",
       "    <tr>\n",
       "      <th>86</th>\n",
       "      <td>(CookBks, ArtBks)</td>\n",
       "      <td>(GeogBks)</td>\n",
       "      <td>0.1670</td>\n",
       "      <td>0.2760</td>\n",
       "      <td>0.1035</td>\n",
       "      <td>0.619760</td>\n",
       "      <td>2.245509</td>\n",
       "      <td>0.057408</td>\n",
       "      <td>1.904063</td>\n",
       "      <td>2</td>\n",
       "    </tr>\n",
       "    <tr>\n",
       "      <th>87</th>\n",
       "      <td>(CookBks, GeogBks)</td>\n",
       "      <td>(ArtBks)</td>\n",
       "      <td>0.1925</td>\n",
       "      <td>0.2410</td>\n",
       "      <td>0.1035</td>\n",
       "      <td>0.537662</td>\n",
       "      <td>2.230964</td>\n",
       "      <td>0.057107</td>\n",
       "      <td>1.641657</td>\n",
       "      <td>2</td>\n",
       "    </tr>\n",
       "    <tr>\n",
       "      <th>58</th>\n",
       "      <td>(CookBks, ChildBks)</td>\n",
       "      <td>(RefBks)</td>\n",
       "      <td>0.2560</td>\n",
       "      <td>0.2145</td>\n",
       "      <td>0.1225</td>\n",
       "      <td>0.478516</td>\n",
       "      <td>2.230842</td>\n",
       "      <td>0.067588</td>\n",
       "      <td>1.506277</td>\n",
       "      <td>2</td>\n",
       "    </tr>\n",
       "  </tbody>\n",
       "</table>\n",
       "</div>"
      ],
      "text/plain": [
       "            antecedents consequents  antecedent support  consequent support  \\\n",
       "92   (ArtBks, ChildBks)   (GeogBks)              0.1625              0.2760   \n",
       "81  (CookBks, DoItYBks)    (ArtBks)              0.1875              0.2410   \n",
       "86    (CookBks, ArtBks)   (GeogBks)              0.1670              0.2760   \n",
       "87   (CookBks, GeogBks)    (ArtBks)              0.1925              0.2410   \n",
       "58  (CookBks, ChildBks)    (RefBks)              0.2560              0.2145   \n",
       "\n",
       "    support  confidence      lift  leverage  conviction  lhs items  \n",
       "92   0.1020    0.627692  2.274247  0.057150    1.944628          2  \n",
       "81   0.1015    0.541333  2.246196  0.056313    1.654797          2  \n",
       "86   0.1035    0.619760  2.245509  0.057408    1.904063          2  \n",
       "87   0.1035    0.537662  2.230964  0.057107    1.641657          2  \n",
       "58   0.1225    0.478516  2.230842  0.067588    1.506277          2  "
      ]
     },
     "execution_count": 23,
     "metadata": {},
     "output_type": "execute_result"
    }
   ],
   "source": [
    "rules_fp_li['lhs items'] = rules_fp_li['antecedents'].apply(lambda x:len(x) )\n",
    "rules_fp_li[rules_fp_li['lhs items']>1].sort_values('lift', ascending=False).head()"
   ]
  },
  {
   "cell_type": "code",
   "execution_count": 24,
   "id": "b023dcd0",
   "metadata": {
    "ExecuteTime": {
     "end_time": "2022-12-17T10:11:17.220271Z",
     "start_time": "2022-12-17T10:11:16.709845Z"
    }
   },
   "outputs": [
    {
     "data": {
      "text/plain": [
       "(array([0.5, 1.5, 2.5, 3.5, 4.5, 5.5, 6.5]),\n",
       " [Text(0.5, 0, 'ArtBks'),\n",
       "  Text(1.5, 0, 'ChildBks'),\n",
       "  Text(2.5, 0, 'CookBks'),\n",
       "  Text(3.5, 0, 'DoItYBks'),\n",
       "  Text(4.5, 0, 'GeogBks'),\n",
       "  Text(5.5, 0, 'RefBks'),\n",
       "  Text(6.5, 0, 'YouthBks')])"
      ]
     },
     "execution_count": 24,
     "metadata": {},
     "output_type": "execute_result"
    },
    {
     "data": {
      "image/png": "[encoded data removed]",
      "text/plain": [
       "<Figure size 432x288 with 2 Axes>"
      ]
     },
     "metadata": {
      "needs_background": "light"
     },
     "output_type": "display_data"
    }
   ],
   "source": [
    "rules_fp_li['antecedents_'] = rules_fp_li['antecedents'].apply(lambda a: ','.join(list(a)))\n",
    "rules_fp_li['consequents_'] = rules_fp_li['consequents'].apply(lambda a: ','.join(list(a)))\n",
    "# Transform the DataFrame of rules into a matrix using the lift metric\n",
    "pivot = rules_fp_li[rules_fp_li['lhs items']>1].pivot(index = 'antecedents_', \n",
    "                    columns = 'consequents_', values= 'lift')\n",
    "# Generate a heatmap with annotations on and the colorbar off\n",
    "sns.heatmap(pivot, annot = True)\n",
    "plt.title('Heat Map - For Lift Metric')\n",
    "plt.yticks(rotation=0)\n",
    "plt.xticks(rotation=90)"
   ]
  },
  {
   "cell_type": "markdown",
   "id": "4508191c",
   "metadata": {},
   "source": [
    "# MY MOVIES Dataset"
   ]
  },
  {
   "cell_type": "code",
   "execution_count": 25,
   "id": "9d81511e",
   "metadata": {
    "ExecuteTime": {
     "end_time": "2022-12-17T10:11:17.243046Z",
     "start_time": "2022-12-17T10:11:17.221775Z"
    }
   },
   "outputs": [
    {
     "data": {
      "text/html": [
       "<div>\n",
       "<style scoped>\n",
       "    .dataframe tbody tr th:only-of-type {\n",
       "        vertical-align: middle;\n",
       "    }\n",
       "\n",
       "    .dataframe tbody tr th {\n",
       "        vertical-align: top;\n",
       "    }\n",
       "\n",
       "    .dataframe thead th {\n",
       "        text-align: right;\n",
       "    }\n",
       "</style>\n",
       "<table border=\"1\" class=\"dataframe\">\n",
       "  <thead>\n",
       "    <tr style=\"text-align: right;\">\n",
       "      <th></th>\n",
       "      <th>V1</th>\n",
       "      <th>V2</th>\n",
       "      <th>V3</th>\n",
       "      <th>V4</th>\n",
       "      <th>V5</th>\n",
       "      <th>Sixth Sense</th>\n",
       "      <th>Gladiator</th>\n",
       "      <th>LOTR1</th>\n",
       "      <th>Harry Potter1</th>\n",
       "      <th>Patriot</th>\n",
       "      <th>LOTR2</th>\n",
       "      <th>Harry Potter2</th>\n",
       "      <th>LOTR</th>\n",
       "      <th>Braveheart</th>\n",
       "      <th>Green Mile</th>\n",
       "    </tr>\n",
       "  </thead>\n",
       "  <tbody>\n",
       "    <tr>\n",
       "      <th>0</th>\n",
       "      <td>Sixth Sense</td>\n",
       "      <td>LOTR1</td>\n",
       "      <td>Harry Potter1</td>\n",
       "      <td>Green Mile</td>\n",
       "      <td>LOTR2</td>\n",
       "      <td>1</td>\n",
       "      <td>0</td>\n",
       "      <td>1</td>\n",
       "      <td>1</td>\n",
       "      <td>0</td>\n",
       "      <td>1</td>\n",
       "      <td>0</td>\n",
       "      <td>0</td>\n",
       "      <td>0</td>\n",
       "      <td>1</td>\n",
       "    </tr>\n",
       "    <tr>\n",
       "      <th>1</th>\n",
       "      <td>Gladiator</td>\n",
       "      <td>Patriot</td>\n",
       "      <td>Braveheart</td>\n",
       "      <td>NaN</td>\n",
       "      <td>NaN</td>\n",
       "      <td>0</td>\n",
       "      <td>1</td>\n",
       "      <td>0</td>\n",
       "      <td>0</td>\n",
       "      <td>1</td>\n",
       "      <td>0</td>\n",
       "      <td>0</td>\n",
       "      <td>0</td>\n",
       "      <td>1</td>\n",
       "      <td>0</td>\n",
       "    </tr>\n",
       "    <tr>\n",
       "      <th>2</th>\n",
       "      <td>LOTR1</td>\n",
       "      <td>LOTR2</td>\n",
       "      <td>NaN</td>\n",
       "      <td>NaN</td>\n",
       "      <td>NaN</td>\n",
       "      <td>0</td>\n",
       "      <td>0</td>\n",
       "      <td>1</td>\n",
       "      <td>0</td>\n",
       "      <td>0</td>\n",
       "      <td>1</td>\n",
       "      <td>0</td>\n",
       "      <td>0</td>\n",
       "      <td>0</td>\n",
       "      <td>0</td>\n",
       "    </tr>\n",
       "    <tr>\n",
       "      <th>3</th>\n",
       "      <td>Gladiator</td>\n",
       "      <td>Patriot</td>\n",
       "      <td>Sixth Sense</td>\n",
       "      <td>NaN</td>\n",
       "      <td>NaN</td>\n",
       "      <td>1</td>\n",
       "      <td>1</td>\n",
       "      <td>0</td>\n",
       "      <td>0</td>\n",
       "      <td>1</td>\n",
       "      <td>0</td>\n",
       "      <td>0</td>\n",
       "      <td>0</td>\n",
       "      <td>0</td>\n",
       "      <td>0</td>\n",
       "    </tr>\n",
       "    <tr>\n",
       "      <th>4</th>\n",
       "      <td>Gladiator</td>\n",
       "      <td>Patriot</td>\n",
       "      <td>Sixth Sense</td>\n",
       "      <td>NaN</td>\n",
       "      <td>NaN</td>\n",
       "      <td>1</td>\n",
       "      <td>1</td>\n",
       "      <td>0</td>\n",
       "      <td>0</td>\n",
       "      <td>1</td>\n",
       "      <td>0</td>\n",
       "      <td>0</td>\n",
       "      <td>0</td>\n",
       "      <td>0</td>\n",
       "      <td>0</td>\n",
       "    </tr>\n",
       "  </tbody>\n",
       "</table>\n",
       "</div>"
      ],
      "text/plain": [
       "            V1       V2             V3          V4     V5  Sixth Sense  \\\n",
       "0  Sixth Sense    LOTR1  Harry Potter1  Green Mile  LOTR2            1   \n",
       "1    Gladiator  Patriot     Braveheart         NaN    NaN            0   \n",
       "2        LOTR1    LOTR2            NaN         NaN    NaN            0   \n",
       "3    Gladiator  Patriot    Sixth Sense         NaN    NaN            1   \n",
       "4    Gladiator  Patriot    Sixth Sense         NaN    NaN            1   \n",
       "\n",
       "   Gladiator  LOTR1  Harry Potter1  Patriot  LOTR2  Harry Potter2  LOTR  \\\n",
       "0          0      1              1        0      1              0     0   \n",
       "1          1      0              0        1      0              0     0   \n",
       "2          0      1              0        0      1              0     0   \n",
       "3          1      0              0        1      0              0     0   \n",
       "4          1      0              0        1      0              0     0   \n",
       "\n",
       "   Braveheart  Green Mile  \n",
       "0           0           1  \n",
       "1           1           0  \n",
       "2           0           0  \n",
       "3           0           0  \n",
       "4           0           0  "
      ]
     },
     "execution_count": 25,
     "metadata": {},
     "output_type": "execute_result"
    }
   ],
   "source": [
    "movie=pd.read_csv('my_movies.csv')\n",
    "movie.head()"
   ]
  },
  {
   "cell_type": "code",
   "execution_count": 26,
   "id": "2b0e4bc5",
   "metadata": {
    "ExecuteTime": {
     "end_time": "2022-12-17T10:11:17.258992Z",
     "start_time": "2022-12-17T10:11:17.245040Z"
    }
   },
   "outputs": [
    {
     "name": "stdout",
     "output_type": "stream",
     "text": [
      "Categorical variables:\n",
      "['V1', 'V2', 'V3', 'V4', 'V5']\n"
     ]
    }
   ],
   "source": [
    "# Get list of categorical variables\n",
    "s = (movie.dtypes == 'object')\n",
    "object_cols = list(s[s].index)\n",
    "\n",
    "print(\"Categorical variables:\")\n",
    "print(object_cols)"
   ]
  },
  {
   "cell_type": "code",
   "execution_count": 27,
   "id": "0d69a344",
   "metadata": {
    "ExecuteTime": {
     "end_time": "2022-12-17T10:11:17.274939Z",
     "start_time": "2022-12-17T10:11:17.259989Z"
    }
   },
   "outputs": [
    {
     "data": {
      "text/html": [
       "<div>\n",
       "<style scoped>\n",
       "    .dataframe tbody tr th:only-of-type {\n",
       "        vertical-align: middle;\n",
       "    }\n",
       "\n",
       "    .dataframe tbody tr th {\n",
       "        vertical-align: top;\n",
       "    }\n",
       "\n",
       "    .dataframe thead th {\n",
       "        text-align: right;\n",
       "    }\n",
       "</style>\n",
       "<table border=\"1\" class=\"dataframe\">\n",
       "  <thead>\n",
       "    <tr style=\"text-align: right;\">\n",
       "      <th></th>\n",
       "      <th>Sixth Sense</th>\n",
       "      <th>Gladiator</th>\n",
       "      <th>LOTR1</th>\n",
       "      <th>Harry Potter1</th>\n",
       "      <th>Patriot</th>\n",
       "      <th>LOTR2</th>\n",
       "      <th>Harry Potter2</th>\n",
       "      <th>LOTR</th>\n",
       "      <th>Braveheart</th>\n",
       "      <th>Green Mile</th>\n",
       "    </tr>\n",
       "  </thead>\n",
       "  <tbody>\n",
       "    <tr>\n",
       "      <th>0</th>\n",
       "      <td>1</td>\n",
       "      <td>0</td>\n",
       "      <td>1</td>\n",
       "      <td>1</td>\n",
       "      <td>0</td>\n",
       "      <td>1</td>\n",
       "      <td>0</td>\n",
       "      <td>0</td>\n",
       "      <td>0</td>\n",
       "      <td>1</td>\n",
       "    </tr>\n",
       "    <tr>\n",
       "      <th>1</th>\n",
       "      <td>0</td>\n",
       "      <td>1</td>\n",
       "      <td>0</td>\n",
       "      <td>0</td>\n",
       "      <td>1</td>\n",
       "      <td>0</td>\n",
       "      <td>0</td>\n",
       "      <td>0</td>\n",
       "      <td>1</td>\n",
       "      <td>0</td>\n",
       "    </tr>\n",
       "    <tr>\n",
       "      <th>2</th>\n",
       "      <td>0</td>\n",
       "      <td>0</td>\n",
       "      <td>1</td>\n",
       "      <td>0</td>\n",
       "      <td>0</td>\n",
       "      <td>1</td>\n",
       "      <td>0</td>\n",
       "      <td>0</td>\n",
       "      <td>0</td>\n",
       "      <td>0</td>\n",
       "    </tr>\n",
       "    <tr>\n",
       "      <th>3</th>\n",
       "      <td>1</td>\n",
       "      <td>1</td>\n",
       "      <td>0</td>\n",
       "      <td>0</td>\n",
       "      <td>1</td>\n",
       "      <td>0</td>\n",
       "      <td>0</td>\n",
       "      <td>0</td>\n",
       "      <td>0</td>\n",
       "      <td>0</td>\n",
       "    </tr>\n",
       "    <tr>\n",
       "      <th>4</th>\n",
       "      <td>1</td>\n",
       "      <td>1</td>\n",
       "      <td>0</td>\n",
       "      <td>0</td>\n",
       "      <td>1</td>\n",
       "      <td>0</td>\n",
       "      <td>0</td>\n",
       "      <td>0</td>\n",
       "      <td>0</td>\n",
       "      <td>0</td>\n",
       "    </tr>\n",
       "  </tbody>\n",
       "</table>\n",
       "</div>"
      ],
      "text/plain": [
       "   Sixth Sense  Gladiator  LOTR1  Harry Potter1  Patriot  LOTR2  \\\n",
       "0            1          0      1              1        0      1   \n",
       "1            0          1      0              0        1      0   \n",
       "2            0          0      1              0        0      1   \n",
       "3            1          1      0              0        1      0   \n",
       "4            1          1      0              0        1      0   \n",
       "\n",
       "   Harry Potter2  LOTR  Braveheart  Green Mile  \n",
       "0              0     0           0           1  \n",
       "1              0     0           1           0  \n",
       "2              0     0           0           0  \n",
       "3              0     0           0           0  \n",
       "4              0     0           0           0  "
      ]
     },
     "execution_count": 27,
     "metadata": {},
     "output_type": "execute_result"
    }
   ],
   "source": [
    "num_movie = movie.iloc[:,5:15]\n",
    "num_movie.head()"
   ]
  },
  {
   "cell_type": "markdown",
   "id": "e8a1a988",
   "metadata": {},
   "source": [
    "# Apriori Algorithm"
   ]
  },
  {
   "cell_type": "code",
   "execution_count": 28,
   "id": "0402fda0",
   "metadata": {
    "ExecuteTime": {
     "end_time": "2022-12-17T10:11:17.306824Z",
     "start_time": "2022-12-17T10:11:17.280922Z"
    }
   },
   "outputs": [
    {
     "name": "stdout",
     "output_type": "stream",
     "text": [
      "Processing 27 combinations | Sampling itemset size 3\n",
      "   support         itemsets\n",
      "0      0.6    (Sixth Sense)\n",
      "1      0.7      (Gladiator)\n",
      "2      0.2          (LOTR1)\n",
      "3      0.2  (Harry Potter1)\n",
      "4      0.6        (Patriot)\n"
     ]
    },
    {
     "name": "stderr",
     "output_type": "stream",
     "text": [
      "C:\\Users\\kulde\\anaconda3\\lib\\site-packages\\mlxtend\\frequent_patterns\\fpcommon.py:111: DeprecationWarning: DataFrames with non-bool types result in worse computationalperformance and their support might be discontinued in the future.Please use a DataFrame with bool type\n",
      "  warnings.warn(\n"
     ]
    }
   ],
   "source": [
    "frequent_itemsets_ap = apriori(num_movie, min_support=0.15, use_colnames=True,verbose=1)\n",
    "print(frequent_itemsets_ap.head())"
   ]
  },
  {
   "cell_type": "code",
   "execution_count": 29,
   "id": "5210defa",
   "metadata": {
    "ExecuteTime": {
     "end_time": "2022-12-17T10:11:17.321959Z",
     "start_time": "2022-12-17T10:11:17.308817Z"
    }
   },
   "outputs": [
    {
     "data": {
      "text/plain": [
       "(13, 2)"
      ]
     },
     "execution_count": 29,
     "metadata": {},
     "output_type": "execute_result"
    }
   ],
   "source": [
    "frequent_itemsets_ap.sort_values(\"support\", ascending = False).shape"
   ]
  },
  {
   "cell_type": "code",
   "execution_count": 30,
   "id": "a8f3aeb0",
   "metadata": {
    "ExecuteTime": {
     "end_time": "2022-12-17T10:11:17.353154Z",
     "start_time": "2022-12-17T10:11:17.323026Z"
    }
   },
   "outputs": [
    {
     "name": "stdout",
     "output_type": "stream",
     "text": [
      "     antecedents    consequents  antecedent support  consequent support  \\\n",
      "0    (Gladiator)  (Sixth Sense)                 0.7                 0.6   \n",
      "1  (Sixth Sense)    (Gladiator)                 0.6                 0.7   \n",
      "2      (Patriot)  (Sixth Sense)                 0.6                 0.6   \n",
      "3  (Sixth Sense)      (Patriot)                 0.6                 0.6   \n",
      "4   (Green Mile)  (Sixth Sense)                 0.2                 0.6   \n",
      "\n",
      "   support  confidence      lift  leverage  conviction  \n",
      "0      0.5    0.714286  1.190476      0.08         1.4  \n",
      "1      0.5    0.833333  1.190476      0.08         1.8  \n",
      "2      0.4    0.666667  1.111111      0.04         1.2  \n",
      "3      0.4    0.666667  1.111111      0.04         1.2  \n",
      "4      0.2    1.000000  1.666667      0.08         inf  \n"
     ]
    }
   ],
   "source": [
    "rules_ap = association_rules(frequent_itemsets_ap, metric=\"confidence\", min_threshold=0.1)\n",
    "print(rules_ap.head())"
   ]
  },
  {
   "cell_type": "code",
   "execution_count": 31,
   "id": "23824aad",
   "metadata": {
    "ExecuteTime": {
     "end_time": "2022-12-17T10:11:17.369093Z",
     "start_time": "2022-12-17T10:11:17.355141Z"
    }
   },
   "outputs": [
    {
     "data": {
      "text/plain": [
       "(15, 9)"
      ]
     },
     "execution_count": 31,
     "metadata": {},
     "output_type": "execute_result"
    }
   ],
   "source": [
    "rules_ap[(rules_ap.support > 0.015) & (rules_ap.confidence > 0.4)].sort_values(\"confidence\", ascending = False).shape"
   ]
  },
  {
   "cell_type": "code",
   "execution_count": 32,
   "id": "168a52ff",
   "metadata": {
    "ExecuteTime": {
     "end_time": "2022-12-17T10:11:17.400516Z",
     "start_time": "2022-12-17T10:11:17.371087Z"
    }
   },
   "outputs": [
    {
     "data": {
      "text/html": [
       "<div>\n",
       "<style scoped>\n",
       "    .dataframe tbody tr th:only-of-type {\n",
       "        vertical-align: middle;\n",
       "    }\n",
       "\n",
       "    .dataframe tbody tr th {\n",
       "        vertical-align: top;\n",
       "    }\n",
       "\n",
       "    .dataframe thead th {\n",
       "        text-align: right;\n",
       "    }\n",
       "</style>\n",
       "<table border=\"1\" class=\"dataframe\">\n",
       "  <thead>\n",
       "    <tr style=\"text-align: right;\">\n",
       "      <th></th>\n",
       "      <th>antecedents</th>\n",
       "      <th>consequents</th>\n",
       "      <th>antecedent support</th>\n",
       "      <th>consequent support</th>\n",
       "      <th>support</th>\n",
       "      <th>confidence</th>\n",
       "      <th>lift</th>\n",
       "      <th>leverage</th>\n",
       "      <th>conviction</th>\n",
       "      <th>lhs items</th>\n",
       "    </tr>\n",
       "  </thead>\n",
       "  <tbody>\n",
       "    <tr>\n",
       "      <th>12</th>\n",
       "      <td>(Patriot, Sixth Sense)</td>\n",
       "      <td>(Gladiator)</td>\n",
       "      <td>0.4</td>\n",
       "      <td>0.7</td>\n",
       "      <td>0.4</td>\n",
       "      <td>1.000000</td>\n",
       "      <td>1.428571</td>\n",
       "      <td>0.12</td>\n",
       "      <td>inf</td>\n",
       "      <td>2</td>\n",
       "    </tr>\n",
       "    <tr>\n",
       "      <th>11</th>\n",
       "      <td>(Gladiator, Sixth Sense)</td>\n",
       "      <td>(Patriot)</td>\n",
       "      <td>0.5</td>\n",
       "      <td>0.6</td>\n",
       "      <td>0.4</td>\n",
       "      <td>0.800000</td>\n",
       "      <td>1.333333</td>\n",
       "      <td>0.10</td>\n",
       "      <td>2.0</td>\n",
       "      <td>2</td>\n",
       "    </tr>\n",
       "    <tr>\n",
       "      <th>10</th>\n",
       "      <td>(Gladiator, Patriot)</td>\n",
       "      <td>(Sixth Sense)</td>\n",
       "      <td>0.6</td>\n",
       "      <td>0.6</td>\n",
       "      <td>0.4</td>\n",
       "      <td>0.666667</td>\n",
       "      <td>1.111111</td>\n",
       "      <td>0.04</td>\n",
       "      <td>1.2</td>\n",
       "      <td>2</td>\n",
       "    </tr>\n",
       "  </tbody>\n",
       "</table>\n",
       "</div>"
      ],
      "text/plain": [
       "                 antecedents    consequents  antecedent support  \\\n",
       "12    (Patriot, Sixth Sense)    (Gladiator)                 0.4   \n",
       "11  (Gladiator, Sixth Sense)      (Patriot)                 0.5   \n",
       "10      (Gladiator, Patriot)  (Sixth Sense)                 0.6   \n",
       "\n",
       "    consequent support  support  confidence      lift  leverage  conviction  \\\n",
       "12                 0.7      0.4    1.000000  1.428571      0.12         inf   \n",
       "11                 0.6      0.4    0.800000  1.333333      0.10         2.0   \n",
       "10                 0.6      0.4    0.666667  1.111111      0.04         1.2   \n",
       "\n",
       "    lhs items  \n",
       "12          2  \n",
       "11          2  \n",
       "10          2  "
      ]
     },
     "execution_count": 32,
     "metadata": {},
     "output_type": "execute_result"
    }
   ],
   "source": [
    "rules_ap['lhs items'] = rules_ap['antecedents'].apply(lambda x:len(x) )\n",
    "rules_ap[rules_ap['lhs items']>1].sort_values('lift', ascending=False).head()"
   ]
  },
  {
   "cell_type": "code",
   "execution_count": 33,
   "id": "4e5b0b44",
   "metadata": {
    "ExecuteTime": {
     "end_time": "2022-12-17T10:11:17.663591Z",
     "start_time": "2022-12-17T10:11:17.402509Z"
    }
   },
   "outputs": [
    {
     "data": {
      "text/plain": [
       "(array([0.5, 1.5, 2.5]),\n",
       " [Text(0.5, 0, 'Gladiator'),\n",
       "  Text(1.5, 0, 'Patriot'),\n",
       "  Text(2.5, 0, 'Sixth Sense')])"
      ]
     },
     "execution_count": 33,
     "metadata": {},
     "output_type": "execute_result"
    },
    {
     "data": {
      "image/png": "[encoded data removed]",
      "text/plain": [
       "<Figure size 432x288 with 2 Axes>"
      ]
     },
     "metadata": {
      "needs_background": "light"
     },
     "output_type": "display_data"
    }
   ],
   "source": [
    "rules_ap['antecedents_'] = rules_ap['antecedents'].apply(lambda a: ','.join(list(a)))\n",
    "rules_ap['consequents_'] = rules_ap['consequents'].apply(lambda a: ','.join(list(a)))\n",
    "# Transform the DataFrame of rules into a matrix using the confidence metric\n",
    "pivot = rules_ap[rules_ap['lhs items']>1].pivot(index = 'antecedents_', \n",
    "                    columns = 'consequents_', values= 'confidence')\n",
    "# Generate a heatmap with annotations \n",
    "sns.heatmap(pivot, annot = True)\n",
    "plt.title('Heat Map - For Confidence Metric')\n",
    "plt.yticks(rotation=0)\n",
    "plt.xticks(rotation=90)"
   ]
  },
  {
   "cell_type": "code",
   "execution_count": 34,
   "id": "b90fa083",
   "metadata": {
    "ExecuteTime": {
     "end_time": "2022-12-17T10:11:17.679671Z",
     "start_time": "2022-12-17T10:11:17.663591Z"
    }
   },
   "outputs": [
    {
     "name": "stdout",
     "output_type": "stream",
     "text": [
      "(16, 9)\n"
     ]
    }
   ],
   "source": [
    "rules_ap_li = association_rules(frequent_itemsets_ap, metric=\"lift\", min_threshold=0.8)\n",
    "print(rules_ap_li.shape)"
   ]
  },
  {
   "cell_type": "code",
   "execution_count": 35,
   "id": "42beec6e",
   "metadata": {
    "ExecuteTime": {
     "end_time": "2022-12-17T10:11:17.706968Z",
     "start_time": "2022-12-17T10:11:17.679671Z"
    }
   },
   "outputs": [
    {
     "data": {
      "text/html": [
       "<div>\n",
       "<style scoped>\n",
       "    .dataframe tbody tr th:only-of-type {\n",
       "        vertical-align: middle;\n",
       "    }\n",
       "\n",
       "    .dataframe tbody tr th {\n",
       "        vertical-align: top;\n",
       "    }\n",
       "\n",
       "    .dataframe thead th {\n",
       "        text-align: right;\n",
       "    }\n",
       "</style>\n",
       "<table border=\"1\" class=\"dataframe\">\n",
       "  <thead>\n",
       "    <tr style=\"text-align: right;\">\n",
       "      <th></th>\n",
       "      <th>antecedents</th>\n",
       "      <th>consequents</th>\n",
       "      <th>antecedent support</th>\n",
       "      <th>consequent support</th>\n",
       "      <th>support</th>\n",
       "      <th>confidence</th>\n",
       "      <th>lift</th>\n",
       "      <th>leverage</th>\n",
       "      <th>conviction</th>\n",
       "      <th>lhs items</th>\n",
       "    </tr>\n",
       "  </thead>\n",
       "  <tbody>\n",
       "    <tr>\n",
       "      <th>12</th>\n",
       "      <td>(Patriot, Sixth Sense)</td>\n",
       "      <td>(Gladiator)</td>\n",
       "      <td>0.4</td>\n",
       "      <td>0.7</td>\n",
       "      <td>0.4</td>\n",
       "      <td>1.000000</td>\n",
       "      <td>1.428571</td>\n",
       "      <td>0.12</td>\n",
       "      <td>inf</td>\n",
       "      <td>2</td>\n",
       "    </tr>\n",
       "    <tr>\n",
       "      <th>11</th>\n",
       "      <td>(Gladiator, Sixth Sense)</td>\n",
       "      <td>(Patriot)</td>\n",
       "      <td>0.5</td>\n",
       "      <td>0.6</td>\n",
       "      <td>0.4</td>\n",
       "      <td>0.800000</td>\n",
       "      <td>1.333333</td>\n",
       "      <td>0.10</td>\n",
       "      <td>2.0</td>\n",
       "      <td>2</td>\n",
       "    </tr>\n",
       "    <tr>\n",
       "      <th>10</th>\n",
       "      <td>(Gladiator, Patriot)</td>\n",
       "      <td>(Sixth Sense)</td>\n",
       "      <td>0.6</td>\n",
       "      <td>0.6</td>\n",
       "      <td>0.4</td>\n",
       "      <td>0.666667</td>\n",
       "      <td>1.111111</td>\n",
       "      <td>0.04</td>\n",
       "      <td>1.2</td>\n",
       "      <td>2</td>\n",
       "    </tr>\n",
       "  </tbody>\n",
       "</table>\n",
       "</div>"
      ],
      "text/plain": [
       "                 antecedents    consequents  antecedent support  \\\n",
       "12    (Patriot, Sixth Sense)    (Gladiator)                 0.4   \n",
       "11  (Gladiator, Sixth Sense)      (Patriot)                 0.5   \n",
       "10      (Gladiator, Patriot)  (Sixth Sense)                 0.6   \n",
       "\n",
       "    consequent support  support  confidence      lift  leverage  conviction  \\\n",
       "12                 0.7      0.4    1.000000  1.428571      0.12         inf   \n",
       "11                 0.6      0.4    0.800000  1.333333      0.10         2.0   \n",
       "10                 0.6      0.4    0.666667  1.111111      0.04         1.2   \n",
       "\n",
       "    lhs items  \n",
       "12          2  \n",
       "11          2  \n",
       "10          2  "
      ]
     },
     "execution_count": 35,
     "metadata": {},
     "output_type": "execute_result"
    }
   ],
   "source": [
    "rules_ap_li['lhs items'] = rules_ap_li['antecedents'].apply(lambda x:len(x) )\n",
    "rules_ap_li[rules_ap_li['lhs items']>1].sort_values('lift', ascending=False).head()"
   ]
  },
  {
   "cell_type": "code",
   "execution_count": 36,
   "id": "38cca679",
   "metadata": {
    "ExecuteTime": {
     "end_time": "2022-12-17T10:11:17.970550Z",
     "start_time": "2022-12-17T10:11:17.707761Z"
    }
   },
   "outputs": [
    {
     "data": {
      "text/plain": [
       "(array([0.5, 1.5, 2.5]),\n",
       " [Text(0.5, 0, 'Gladiator'),\n",
       "  Text(1.5, 0, 'Patriot'),\n",
       "  Text(2.5, 0, 'Sixth Sense')])"
      ]
     },
     "execution_count": 36,
     "metadata": {},
     "output_type": "execute_result"
    },
    {
     "data": {
      "image/png": "[encoded data removed]",
      "text/plain": [
       "<Figure size 432x288 with 2 Axes>"
      ]
     },
     "metadata": {
      "needs_background": "light"
     },
     "output_type": "display_data"
    }
   ],
   "source": [
    "# Replace frozen sets with strings\n",
    "rules_ap_li['antecedents_'] = rules_ap_li['antecedents'].apply(lambda a: ','.join(list(a)))\n",
    "rules_ap_li['consequents_'] = rules_ap_li['consequents'].apply(lambda a: ','.join(list(a)))\n",
    "# Transform the DataFrame of rules into a matrix using the lift metric\n",
    "pivot = rules_ap_li[rules_ap_li['lhs items']>1].pivot(index = 'antecedents_', \n",
    "                    columns = 'consequents_', values= 'lift')\n",
    "# Generate a heatmap with annotations on and the colorbar off\n",
    "sns.heatmap(pivot, annot = True)\n",
    "plt.title('Heat Map - For Lift Metric')\n",
    "plt.yticks(rotation=0)\n",
    "plt.xticks(rotation=90)"
   ]
  },
  {
   "cell_type": "markdown",
   "id": "72d3f40c",
   "metadata": {},
   "source": [
    "# FpGrowth Algorithm"
   ]
  },
  {
   "cell_type": "code",
   "execution_count": 37,
   "id": "a3b30e0c",
   "metadata": {
    "ExecuteTime": {
     "end_time": "2022-12-17T10:11:17.986549Z",
     "start_time": "2022-12-17T10:11:17.972565Z"
    }
   },
   "outputs": [
    {
     "name": "stdout",
     "output_type": "stream",
     "text": [
      "10 itemset(s) from tree conditioned on items ()\n",
      "3 itemset(s) from tree conditioned on items (Sixth Sense)\n",
      "3 itemset(s) from tree conditioned on items (Green Mile)\n",
      "3 itemset(s) from tree conditioned on items (LOTR2)\n",
      "7 itemset(s) from tree conditioned on items (Harry Potter1)\n",
      "15 itemset(s) from tree conditioned on items (LOTR1)\n",
      "0 itemset(s) from tree conditioned on items (Gladiator)\n",
      "1 itemset(s) from tree conditioned on items (Patriot)\n",
      "3 itemset(s) from tree conditioned on items (Braveheart)\n",
      "1 itemset(s) from tree conditioned on items (Harry Potter2)\n",
      "7 itemset(s) from tree conditioned on items (LOTR)\n",
      "(53, 2)\n"
     ]
    },
    {
     "name": "stderr",
     "output_type": "stream",
     "text": [
      "C:\\Users\\kulde\\anaconda3\\lib\\site-packages\\mlxtend\\frequent_patterns\\fpcommon.py:111: DeprecationWarning: DataFrames with non-bool types result in worse computationalperformance and their support might be discontinued in the future.Please use a DataFrame with bool type\n",
      "  warnings.warn(\n"
     ]
    }
   ],
   "source": [
    "frequent_itemsets_fp=fpgrowth(num_movie, min_support=0.1, use_colnames=True,verbose=1)\n",
    "print(frequent_itemsets_fp.shape)"
   ]
  },
  {
   "cell_type": "code",
   "execution_count": 38,
   "id": "9815f480",
   "metadata": {
    "ExecuteTime": {
     "end_time": "2022-12-17T10:11:18.002099Z",
     "start_time": "2022-12-17T10:11:17.988598Z"
    }
   },
   "outputs": [
    {
     "data": {
      "text/html": [
       "<div>\n",
       "<style scoped>\n",
       "    .dataframe tbody tr th:only-of-type {\n",
       "        vertical-align: middle;\n",
       "    }\n",
       "\n",
       "    .dataframe tbody tr th {\n",
       "        vertical-align: top;\n",
       "    }\n",
       "\n",
       "    .dataframe thead th {\n",
       "        text-align: right;\n",
       "    }\n",
       "</style>\n",
       "<table border=\"1\" class=\"dataframe\">\n",
       "  <thead>\n",
       "    <tr style=\"text-align: right;\">\n",
       "      <th></th>\n",
       "      <th>support</th>\n",
       "      <th>itemsets</th>\n",
       "    </tr>\n",
       "  </thead>\n",
       "  <tbody>\n",
       "    <tr>\n",
       "      <th>5</th>\n",
       "      <td>0.7</td>\n",
       "      <td>(Gladiator)</td>\n",
       "    </tr>\n",
       "    <tr>\n",
       "      <th>0</th>\n",
       "      <td>0.6</td>\n",
       "      <td>(Sixth Sense)</td>\n",
       "    </tr>\n",
       "    <tr>\n",
       "      <th>41</th>\n",
       "      <td>0.6</td>\n",
       "      <td>(Gladiator, Patriot)</td>\n",
       "    </tr>\n",
       "    <tr>\n",
       "      <th>6</th>\n",
       "      <td>0.6</td>\n",
       "      <td>(Patriot)</td>\n",
       "    </tr>\n",
       "    <tr>\n",
       "      <th>10</th>\n",
       "      <td>0.5</td>\n",
       "      <td>(Gladiator, Sixth Sense)</td>\n",
       "    </tr>\n",
       "  </tbody>\n",
       "</table>\n",
       "</div>"
      ],
      "text/plain": [
       "    support                  itemsets\n",
       "5       0.7               (Gladiator)\n",
       "0       0.6             (Sixth Sense)\n",
       "41      0.6      (Gladiator, Patriot)\n",
       "6       0.6                 (Patriot)\n",
       "10      0.5  (Gladiator, Sixth Sense)"
      ]
     },
     "execution_count": 38,
     "metadata": {},
     "output_type": "execute_result"
    }
   ],
   "source": [
    "frequent_itemsets_fp.sort_values(\"support\", ascending = False).head()"
   ]
  },
  {
   "cell_type": "code",
   "execution_count": 39,
   "id": "dd552020",
   "metadata": {
    "ExecuteTime": {
     "end_time": "2022-12-17T10:11:18.033001Z",
     "start_time": "2022-12-17T10:11:18.004093Z"
    }
   },
   "outputs": [
    {
     "name": "stdout",
     "output_type": "stream",
     "text": [
      "                antecedents    consequents  antecedent support  \\\n",
      "0             (Sixth Sense)    (Gladiator)                 0.6   \n",
      "1  (Gladiator, Sixth Sense)      (Patriot)                 0.5   \n",
      "2    (Patriot, Sixth Sense)    (Gladiator)                 0.4   \n",
      "3              (Green Mile)  (Sixth Sense)                 0.2   \n",
      "4   (Gladiator, Green Mile)  (Sixth Sense)                 0.1   \n",
      "\n",
      "   consequent support  support  confidence      lift  leverage  conviction  \n",
      "0                 0.7      0.5    0.833333  1.190476      0.08         1.8  \n",
      "1                 0.6      0.4    0.800000  1.333333      0.10         2.0  \n",
      "2                 0.7      0.4    1.000000  1.428571      0.12         inf  \n",
      "3                 0.6      0.2    1.000000  1.666667      0.08         inf  \n",
      "4                 0.6      0.1    1.000000  1.666667      0.04         inf  \n"
     ]
    }
   ],
   "source": [
    "rules_fp = association_rules(frequent_itemsets_fp, metric=\"confidence\", min_threshold=0.8)\n",
    "print(rules_fp.head())"
   ]
  },
  {
   "cell_type": "code",
   "execution_count": 40,
   "id": "f2c34c46",
   "metadata": {
    "ExecuteTime": {
     "end_time": "2022-12-17T10:11:18.048676Z",
     "start_time": "2022-12-17T10:11:18.034693Z"
    }
   },
   "outputs": [
    {
     "data": {
      "text/plain": [
       "(8, 9)"
      ]
     },
     "execution_count": 40,
     "metadata": {},
     "output_type": "execute_result"
    }
   ],
   "source": [
    "rules_fp[(rules_fp.support > 0.1) & (rules_fp.confidence > 0.4)].sort_values(\"confidence\", ascending = False).shape"
   ]
  },
  {
   "cell_type": "code",
   "execution_count": 41,
   "id": "bb112689",
   "metadata": {
    "ExecuteTime": {
     "end_time": "2022-12-17T10:11:18.080013Z",
     "start_time": "2022-12-17T10:11:18.050705Z"
    }
   },
   "outputs": [
    {
     "data": {
      "text/html": [
       "<div>\n",
       "<style scoped>\n",
       "    .dataframe tbody tr th:only-of-type {\n",
       "        vertical-align: middle;\n",
       "    }\n",
       "\n",
       "    .dataframe tbody tr th {\n",
       "        vertical-align: top;\n",
       "    }\n",
       "\n",
       "    .dataframe thead th {\n",
       "        text-align: right;\n",
       "    }\n",
       "</style>\n",
       "<table border=\"1\" class=\"dataframe\">\n",
       "  <thead>\n",
       "    <tr style=\"text-align: right;\">\n",
       "      <th></th>\n",
       "      <th>antecedents</th>\n",
       "      <th>consequents</th>\n",
       "      <th>antecedent support</th>\n",
       "      <th>consequent support</th>\n",
       "      <th>support</th>\n",
       "      <th>confidence</th>\n",
       "      <th>lift</th>\n",
       "      <th>leverage</th>\n",
       "      <th>conviction</th>\n",
       "      <th>lhs items</th>\n",
       "    </tr>\n",
       "  </thead>\n",
       "  <tbody>\n",
       "    <tr>\n",
       "      <th>126</th>\n",
       "      <td>(Gladiator, Green Mile)</td>\n",
       "      <td>(LOTR, Sixth Sense)</td>\n",
       "      <td>0.1</td>\n",
       "      <td>0.1</td>\n",
       "      <td>0.1</td>\n",
       "      <td>1.0</td>\n",
       "      <td>10.0</td>\n",
       "      <td>0.09</td>\n",
       "      <td>inf</td>\n",
       "      <td>2</td>\n",
       "    </tr>\n",
       "    <tr>\n",
       "      <th>45</th>\n",
       "      <td>(LOTR1, Green Mile)</td>\n",
       "      <td>(LOTR2, Harry Potter1)</td>\n",
       "      <td>0.1</td>\n",
       "      <td>0.1</td>\n",
       "      <td>0.1</td>\n",
       "      <td>1.0</td>\n",
       "      <td>10.0</td>\n",
       "      <td>0.09</td>\n",
       "      <td>inf</td>\n",
       "      <td>2</td>\n",
       "    </tr>\n",
       "    <tr>\n",
       "      <th>85</th>\n",
       "      <td>(LOTR1, Green Mile, Sixth Sense)</td>\n",
       "      <td>(LOTR2, Harry Potter1)</td>\n",
       "      <td>0.1</td>\n",
       "      <td>0.1</td>\n",
       "      <td>0.1</td>\n",
       "      <td>1.0</td>\n",
       "      <td>10.0</td>\n",
       "      <td>0.09</td>\n",
       "      <td>inf</td>\n",
       "      <td>3</td>\n",
       "    </tr>\n",
       "    <tr>\n",
       "      <th>84</th>\n",
       "      <td>(LOTR1, LOTR2, Sixth Sense)</td>\n",
       "      <td>(Harry Potter1, Green Mile)</td>\n",
       "      <td>0.1</td>\n",
       "      <td>0.1</td>\n",
       "      <td>0.1</td>\n",
       "      <td>1.0</td>\n",
       "      <td>10.0</td>\n",
       "      <td>0.09</td>\n",
       "      <td>inf</td>\n",
       "      <td>3</td>\n",
       "    </tr>\n",
       "    <tr>\n",
       "      <th>83</th>\n",
       "      <td>(LOTR1, LOTR2, Green Mile)</td>\n",
       "      <td>(Harry Potter1, Sixth Sense)</td>\n",
       "      <td>0.1</td>\n",
       "      <td>0.1</td>\n",
       "      <td>0.1</td>\n",
       "      <td>1.0</td>\n",
       "      <td>10.0</td>\n",
       "      <td>0.09</td>\n",
       "      <td>inf</td>\n",
       "      <td>3</td>\n",
       "    </tr>\n",
       "  </tbody>\n",
       "</table>\n",
       "</div>"
      ],
      "text/plain": [
       "                          antecedents                   consequents  \\\n",
       "126           (Gladiator, Green Mile)           (LOTR, Sixth Sense)   \n",
       "45                (LOTR1, Green Mile)        (LOTR2, Harry Potter1)   \n",
       "85   (LOTR1, Green Mile, Sixth Sense)        (LOTR2, Harry Potter1)   \n",
       "84        (LOTR1, LOTR2, Sixth Sense)   (Harry Potter1, Green Mile)   \n",
       "83         (LOTR1, LOTR2, Green Mile)  (Harry Potter1, Sixth Sense)   \n",
       "\n",
       "     antecedent support  consequent support  support  confidence  lift  \\\n",
       "126                 0.1                 0.1      0.1         1.0  10.0   \n",
       "45                  0.1                 0.1      0.1         1.0  10.0   \n",
       "85                  0.1                 0.1      0.1         1.0  10.0   \n",
       "84                  0.1                 0.1      0.1         1.0  10.0   \n",
       "83                  0.1                 0.1      0.1         1.0  10.0   \n",
       "\n",
       "     leverage  conviction  lhs items  \n",
       "126      0.09         inf          2  \n",
       "45       0.09         inf          2  \n",
       "85       0.09         inf          3  \n",
       "84       0.09         inf          3  \n",
       "83       0.09         inf          3  "
      ]
     },
     "execution_count": 41,
     "metadata": {},
     "output_type": "execute_result"
    }
   ],
   "source": [
    "rules_fp['lhs items'] = rules_fp['antecedents'].apply(lambda x:len(x) )\n",
    "rules_fp[rules_fp['lhs items']>1].sort_values('lift', ascending=False).head()"
   ]
  },
  {
   "cell_type": "code",
   "execution_count": 42,
   "id": "831e8860",
   "metadata": {
    "ExecuteTime": {
     "end_time": "2022-12-17T10:11:18.986080Z",
     "start_time": "2022-12-17T10:11:18.082387Z"
    }
   },
   "outputs": [
    {
     "data": {
      "text/plain": [
       "(array([ 0.5,  2.5,  4.5,  6.5,  8.5, 10.5, 12.5, 14.5, 16.5, 18.5, 20.5,\n",
       "        22.5, 24.5, 26.5, 28.5]),\n",
       " [Text(0.5, 0, 'Gladiator'),\n",
       "  Text(2.5, 0, 'Gladiator,Sixth Sense'),\n",
       "  Text(4.5, 0, 'Green Mile,Sixth Sense'),\n",
       "  Text(6.5, 0, 'Harry Potter1,Green Mile'),\n",
       "  Text(8.5, 0, 'LOTR'),\n",
       "  Text(10.5, 0, 'LOTR1'),\n",
       "  Text(12.5, 0, 'LOTR1,Green Mile,Sixth Sense'),\n",
       "  Text(14.5, 0, 'LOTR1,Harry Potter1,Green Mile'),\n",
       "  Text(16.5, 0, 'LOTR1,LOTR2'),\n",
       "  Text(18.5, 0, 'LOTR1,LOTR2,Sixth Sense'),\n",
       "  Text(20.5, 0, 'LOTR2'),\n",
       "  Text(22.5, 0, 'LOTR2,Green Mile,Sixth Sense'),\n",
       "  Text(24.5, 0, 'LOTR2,Harry Potter1,Green Mile'),\n",
       "  Text(26.5, 0, 'LOTR2,Sixth Sense'),\n",
       "  Text(28.5, 0, 'Sixth Sense')])"
      ]
     },
     "execution_count": 42,
     "metadata": {},
     "output_type": "execute_result"
    },
    {
     "data": {
      "image/png": "[encoded data removed]",
      "text/plain": [
       "<Figure size 432x288 with 2 Axes>"
      ]
     },
     "metadata": {
      "needs_background": "light"
     },
     "output_type": "display_data"
    }
   ],
   "source": [
    "rules_fp['antecedents_'] = rules_fp['antecedents'].apply(lambda a: ','.join(list(a)))\n",
    "rules_fp['consequents_'] = rules_fp['consequents'].apply(lambda a: ','.join(list(a)))\n",
    "# Transform the DataFrame of rules into a matrix using the confidence metric\n",
    "pivot = rules_fp[rules_fp['lhs items']>1].pivot(index = 'antecedents_', \n",
    "                    columns = 'consequents_', values= 'confidence')\n",
    "# Generate a heatmap with annotations \n",
    "sns.heatmap(pivot, annot = True)\n",
    "plt.title('Heat Map - For Confidence Metric')\n",
    "plt.yticks(rotation=0)\n",
    "plt.xticks(rotation=90)"
   ]
  },
  {
   "cell_type": "code",
   "execution_count": 43,
   "id": "5d66d426",
   "metadata": {
    "ExecuteTime": {
     "end_time": "2022-12-17T10:11:19.001295Z",
     "start_time": "2022-12-17T10:11:18.988058Z"
    }
   },
   "outputs": [
    {
     "name": "stdout",
     "output_type": "stream",
     "text": [
      "(246, 9)\n"
     ]
    }
   ],
   "source": [
    "rules_fp_li = association_rules(frequent_itemsets_fp, metric=\"lift\", min_threshold=0.8)\n",
    "print(rules_fp_li.shape)"
   ]
  },
  {
   "cell_type": "code",
   "execution_count": 44,
   "id": "71095db0",
   "metadata": {
    "ExecuteTime": {
     "end_time": "2022-12-17T10:11:19.035539Z",
     "start_time": "2022-12-17T10:11:19.002289Z"
    }
   },
   "outputs": [
    {
     "data": {
      "text/html": [
       "<div>\n",
       "<style scoped>\n",
       "    .dataframe tbody tr th:only-of-type {\n",
       "        vertical-align: middle;\n",
       "    }\n",
       "\n",
       "    .dataframe tbody tr th {\n",
       "        vertical-align: top;\n",
       "    }\n",
       "\n",
       "    .dataframe thead th {\n",
       "        text-align: right;\n",
       "    }\n",
       "</style>\n",
       "<table border=\"1\" class=\"dataframe\">\n",
       "  <thead>\n",
       "    <tr style=\"text-align: right;\">\n",
       "      <th></th>\n",
       "      <th>antecedents</th>\n",
       "      <th>consequents</th>\n",
       "      <th>antecedent support</th>\n",
       "      <th>consequent support</th>\n",
       "      <th>support</th>\n",
       "      <th>confidence</th>\n",
       "      <th>lift</th>\n",
       "      <th>leverage</th>\n",
       "      <th>conviction</th>\n",
       "      <th>lhs items</th>\n",
       "    </tr>\n",
       "  </thead>\n",
       "  <tbody>\n",
       "    <tr>\n",
       "      <th>172</th>\n",
       "      <td>(LOTR1, LOTR2, Green Mile)</td>\n",
       "      <td>(Harry Potter1, Sixth Sense)</td>\n",
       "      <td>0.1</td>\n",
       "      <td>0.1</td>\n",
       "      <td>0.1</td>\n",
       "      <td>1.0</td>\n",
       "      <td>10.0</td>\n",
       "      <td>0.09</td>\n",
       "      <td>inf</td>\n",
       "      <td>3</td>\n",
       "    </tr>\n",
       "    <tr>\n",
       "      <th>57</th>\n",
       "      <td>(Harry Potter1, Green Mile)</td>\n",
       "      <td>(LOTR2, Sixth Sense)</td>\n",
       "      <td>0.1</td>\n",
       "      <td>0.1</td>\n",
       "      <td>0.1</td>\n",
       "      <td>1.0</td>\n",
       "      <td>10.0</td>\n",
       "      <td>0.09</td>\n",
       "      <td>inf</td>\n",
       "      <td>2</td>\n",
       "    </tr>\n",
       "    <tr>\n",
       "      <th>176</th>\n",
       "      <td>(LOTR2, Harry Potter1, Sixth Sense)</td>\n",
       "      <td>(LOTR1, Green Mile)</td>\n",
       "      <td>0.1</td>\n",
       "      <td>0.1</td>\n",
       "      <td>0.1</td>\n",
       "      <td>1.0</td>\n",
       "      <td>10.0</td>\n",
       "      <td>0.09</td>\n",
       "      <td>inf</td>\n",
       "      <td>3</td>\n",
       "    </tr>\n",
       "    <tr>\n",
       "      <th>175</th>\n",
       "      <td>(LOTR2, Harry Potter1, Green Mile)</td>\n",
       "      <td>(LOTR1, Sixth Sense)</td>\n",
       "      <td>0.1</td>\n",
       "      <td>0.1</td>\n",
       "      <td>0.1</td>\n",
       "      <td>1.0</td>\n",
       "      <td>10.0</td>\n",
       "      <td>0.09</td>\n",
       "      <td>inf</td>\n",
       "      <td>3</td>\n",
       "    </tr>\n",
       "    <tr>\n",
       "      <th>174</th>\n",
       "      <td>(LOTR1, Green Mile, Sixth Sense)</td>\n",
       "      <td>(LOTR2, Harry Potter1)</td>\n",
       "      <td>0.1</td>\n",
       "      <td>0.1</td>\n",
       "      <td>0.1</td>\n",
       "      <td>1.0</td>\n",
       "      <td>10.0</td>\n",
       "      <td>0.09</td>\n",
       "      <td>inf</td>\n",
       "      <td>3</td>\n",
       "    </tr>\n",
       "  </tbody>\n",
       "</table>\n",
       "</div>"
      ],
      "text/plain": [
       "                             antecedents                   consequents  \\\n",
       "172           (LOTR1, LOTR2, Green Mile)  (Harry Potter1, Sixth Sense)   \n",
       "57           (Harry Potter1, Green Mile)          (LOTR2, Sixth Sense)   \n",
       "176  (LOTR2, Harry Potter1, Sixth Sense)           (LOTR1, Green Mile)   \n",
       "175   (LOTR2, Harry Potter1, Green Mile)          (LOTR1, Sixth Sense)   \n",
       "174     (LOTR1, Green Mile, Sixth Sense)        (LOTR2, Harry Potter1)   \n",
       "\n",
       "     antecedent support  consequent support  support  confidence  lift  \\\n",
       "172                 0.1                 0.1      0.1         1.0  10.0   \n",
       "57                  0.1                 0.1      0.1         1.0  10.0   \n",
       "176                 0.1                 0.1      0.1         1.0  10.0   \n",
       "175                 0.1                 0.1      0.1         1.0  10.0   \n",
       "174                 0.1                 0.1      0.1         1.0  10.0   \n",
       "\n",
       "     leverage  conviction  lhs items  \n",
       "172      0.09         inf          3  \n",
       "57       0.09         inf          2  \n",
       "176      0.09         inf          3  \n",
       "175      0.09         inf          3  \n",
       "174      0.09         inf          3  "
      ]
     },
     "execution_count": 44,
     "metadata": {},
     "output_type": "execute_result"
    }
   ],
   "source": [
    "rules_fp_li['lhs items'] = rules_fp_li['antecedents'].apply(lambda x:len(x) )\n",
    "rules_fp_li[rules_fp_li['lhs items']>1].sort_values('lift', ascending=False).head()"
   ]
  },
  {
   "cell_type": "code",
   "execution_count": 45,
   "id": "de935887",
   "metadata": {
    "ExecuteTime": {
     "end_time": "2022-12-17T10:11:20.074912Z",
     "start_time": "2022-12-17T10:11:19.035539Z"
    }
   },
   "outputs": [
    {
     "data": {
      "text/plain": [
       "(array([ 0.5,  2.5,  4.5,  6.5,  8.5, 10.5, 12.5, 14.5, 16.5, 18.5, 20.5,\n",
       "        22.5, 24.5, 26.5, 28.5, 30.5, 32.5]),\n",
       " [Text(0.5, 0, 'Braveheart'),\n",
       "  Text(2.5, 0, 'Gladiator,Green Mile'),\n",
       "  Text(4.5, 0, 'Gladiator,Sixth Sense'),\n",
       "  Text(6.5, 0, 'Green Mile,LOTR'),\n",
       "  Text(8.5, 0, 'Harry Potter1'),\n",
       "  Text(10.5, 0, 'Harry Potter1,Green Mile,Sixth Sense'),\n",
       "  Text(12.5, 0, 'LOTR'),\n",
       "  Text(14.5, 0, 'LOTR1'),\n",
       "  Text(16.5, 0, 'LOTR1,Green Mile,Sixth Sense'),\n",
       "  Text(18.5, 0, 'LOTR1,Harry Potter1,Green Mile'),\n",
       "  Text(20.5, 0, 'LOTR1,LOTR2'),\n",
       "  Text(22.5, 0, 'LOTR1,LOTR2,Harry Potter1'),\n",
       "  Text(24.5, 0, 'LOTR1,Sixth Sense'),\n",
       "  Text(26.5, 0, 'LOTR2,Green Mile'),\n",
       "  Text(28.5, 0, 'LOTR2,Harry Potter1'),\n",
       "  Text(30.5, 0, 'LOTR2,Harry Potter1,Sixth Sense'),\n",
       "  Text(32.5, 0, 'Patriot')])"
      ]
     },
     "execution_count": 45,
     "metadata": {},
     "output_type": "execute_result"
    },
    {
     "data": {
      "image/png": "[encoded data removed]",
      "text/plain": [
       "<Figure size 432x288 with 2 Axes>"
      ]
     },
     "metadata": {
      "needs_background": "light"
     },
     "output_type": "display_data"
    }
   ],
   "source": [
    "# Replace frozen sets with strings\n",
    "rules_fp_li['antecedents_'] = rules_fp_li['antecedents'].apply(lambda a: ','.join(list(a)))\n",
    "rules_fp_li['consequents_'] = rules_fp_li['consequents'].apply(lambda a: ','.join(list(a)))\n",
    "# Transform the DataFrame of rules into a matrix using the lift metric\n",
    "pivot = rules_fp_li[rules_fp_li['lhs items']>1].pivot(index = 'antecedents_', \n",
    "                    columns = 'consequents_', values= 'lift')\n",
    "# Generate a heatmap with annotations on and the colorbar off\n",
    "sns.heatmap(pivot, annot = True)\n",
    "plt.title('Heat Map - For Lift Metric')\n",
    "plt.yticks(rotation=0)\n",
    "plt.xticks(rotation=90)"
   ]
  },
  {
   "cell_type": "code",
   "execution_count": null,
   "id": "50581d1d",
   "metadata": {},
   "outputs": [],
   "source": []
  }
 ],
 "metadata": {
  "kernelspec": {
   "display_name": "Python 3 (ipykernel)",
   "language": "python",
   "name": "python3"
  },
  "language_info": {
   "codemirror_mode": {
    "name": "ipython",
    "version": 3
   },
   "file_extension": ".py",
   "mimetype": "text/x-python",
   "name": "python",
   "nbconvert_exporter": "python",
   "pygments_lexer": "ipython3",
   "version": "3.9.12"
  }
 },
 "nbformat": 4,
 "nbformat_minor": 5
}
